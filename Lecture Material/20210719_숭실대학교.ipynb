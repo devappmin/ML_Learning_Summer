{
  "nbformat": 4,
  "nbformat_minor": 0,
  "metadata": {
    "colab": {
      "name": "20210719_숭실대학교.ipynb",
      "provenance": []
    },
    "kernelspec": {
      "name": "python3",
      "display_name": "Python 3"
    },
    "language_info": {
      "name": "python"
    }
  },
  "cells": [
    {
      "cell_type": "code",
      "metadata": {
        "colab": {
          "base_uri": "https://localhost:8080/"
        },
        "id": "96ceTVE2GAva",
        "outputId": "a544a745-e33b-4853-9e13-2145be5259b3"
      },
      "source": [
        "# 주석입니다.\n",
        "a = 5\n",
        "print(a)"
      ],
      "execution_count": 1,
      "outputs": [
        {
          "output_type": "stream",
          "text": [
            "5\n"
          ],
          "name": "stdout"
        }
      ]
    },
    {
      "cell_type": "code",
      "metadata": {
        "id": "8N8yjc_WHCX0"
      },
      "source": [
        "a = 3\n",
        "b = 5"
      ],
      "execution_count": 2,
      "outputs": []
    },
    {
      "cell_type": "code",
      "metadata": {
        "colab": {
          "base_uri": "https://localhost:8080/"
        },
        "id": "SnXTk5j0HNb3",
        "outputId": "a7c4c543-bb28-46a2-959d-2f39fbaca394"
      },
      "source": [
        "a + b"
      ],
      "execution_count": 3,
      "outputs": [
        {
          "output_type": "execute_result",
          "data": {
            "text/plain": [
              "8"
            ]
          },
          "metadata": {
            "tags": []
          },
          "execution_count": 3
        }
      ]
    },
    {
      "cell_type": "code",
      "metadata": {
        "colab": {
          "base_uri": "https://localhost:8080/"
        },
        "id": "Ov_4Wlx-HPuK",
        "outputId": "52f63531-c2f5-4dee-8256-ac1d022e4b6c"
      },
      "source": [
        "a - b"
      ],
      "execution_count": 4,
      "outputs": [
        {
          "output_type": "execute_result",
          "data": {
            "text/plain": [
              "-2"
            ]
          },
          "metadata": {
            "tags": []
          },
          "execution_count": 4
        }
      ]
    },
    {
      "cell_type": "code",
      "metadata": {
        "colab": {
          "base_uri": "https://localhost:8080/"
        },
        "id": "oRj_nGrKHRaK",
        "outputId": "3cd866e4-c22d-4eb9-9935-6038766aa18b"
      },
      "source": [
        "a * b"
      ],
      "execution_count": 5,
      "outputs": [
        {
          "output_type": "execute_result",
          "data": {
            "text/plain": [
              "15"
            ]
          },
          "metadata": {
            "tags": []
          },
          "execution_count": 5
        }
      ]
    },
    {
      "cell_type": "code",
      "metadata": {
        "colab": {
          "base_uri": "https://localhost:8080/"
        },
        "id": "A-CtIQGUHU4s",
        "outputId": "0041f8d7-4acd-42b7-b69d-0120fae90db9"
      },
      "source": [
        "a / b"
      ],
      "execution_count": 6,
      "outputs": [
        {
          "output_type": "execute_result",
          "data": {
            "text/plain": [
              "0.6"
            ]
          },
          "metadata": {
            "tags": []
          },
          "execution_count": 6
        }
      ]
    },
    {
      "cell_type": "code",
      "metadata": {
        "colab": {
          "base_uri": "https://localhost:8080/"
        },
        "id": "OH_rPoJxHWll",
        "outputId": "fe6be8bf-b2fe-45c3-f71c-16582c9bd780"
      },
      "source": [
        "a ** b # a에 b제곱"
      ],
      "execution_count": 7,
      "outputs": [
        {
          "output_type": "execute_result",
          "data": {
            "text/plain": [
              "243"
            ]
          },
          "metadata": {
            "tags": []
          },
          "execution_count": 7
        }
      ]
    },
    {
      "cell_type": "code",
      "metadata": {
        "colab": {
          "base_uri": "https://localhost:8080/"
        },
        "id": "jFotyi7dHfMh",
        "outputId": "d0b2e0ec-f3c4-4d9a-cfce-ca8d7ffbfcc1"
      },
      "source": [
        "7 % 3"
      ],
      "execution_count": 8,
      "outputs": [
        {
          "output_type": "execute_result",
          "data": {
            "text/plain": [
              "1"
            ]
          },
          "metadata": {
            "tags": []
          },
          "execution_count": 8
        }
      ]
    },
    {
      "cell_type": "code",
      "metadata": {
        "colab": {
          "base_uri": "https://localhost:8080/"
        },
        "id": "l8tmq1zbHpbf",
        "outputId": "47b6b56c-674a-4c64-e096-89705c738302"
      },
      "source": [
        "7 // 3"
      ],
      "execution_count": 9,
      "outputs": [
        {
          "output_type": "execute_result",
          "data": {
            "text/plain": [
              "2"
            ]
          },
          "metadata": {
            "tags": []
          },
          "execution_count": 9
        }
      ]
    },
    {
      "cell_type": "code",
      "metadata": {
        "colab": {
          "base_uri": "https://localhost:8080/"
        },
        "id": "28aypxSpHtGn",
        "outputId": "9e03a7be-6804-4639-e100-7eaaac6de89b"
      },
      "source": [
        "a = 4.24E10 # 4.24 곱하기 10에 10승\n",
        "a"
      ],
      "execution_count": 10,
      "outputs": [
        {
          "output_type": "execute_result",
          "data": {
            "text/plain": [
              "42400000000.0"
            ]
          },
          "metadata": {
            "tags": []
          },
          "execution_count": 10
        }
      ]
    },
    {
      "cell_type": "code",
      "metadata": {
        "colab": {
          "base_uri": "https://localhost:8080/"
        },
        "id": "SDsQnTNpIGoB",
        "outputId": "ae640e67-698f-40d3-d45b-9758b74ddc26"
      },
      "source": [
        "a = 4.24E-10\n",
        "a"
      ],
      "execution_count": 12,
      "outputs": [
        {
          "output_type": "execute_result",
          "data": {
            "text/plain": [
              "4.24e-10"
            ]
          },
          "metadata": {
            "tags": []
          },
          "execution_count": 12
        }
      ]
    },
    {
      "cell_type": "code",
      "metadata": {
        "colab": {
          "base_uri": "https://localhost:8080/"
        },
        "id": "NNxKEVGlILMm",
        "outputId": "e8da243b-474d-4aad-f526-ed19d466b8d7"
      },
      "source": [
        "a = 4.24e-10\n",
        "a"
      ],
      "execution_count": 13,
      "outputs": [
        {
          "output_type": "execute_result",
          "data": {
            "text/plain": [
              "4.24e-10"
            ]
          },
          "metadata": {
            "tags": []
          },
          "execution_count": 13
        }
      ]
    },
    {
      "cell_type": "code",
      "metadata": {
        "colab": {
          "base_uri": "https://localhost:8080/",
          "height": 35
        },
        "id": "IdAWnqOrIQvF",
        "outputId": "0c2a01a6-0d42-448c-c2df-91318d8f235d"
      },
      "source": [
        "# 문자열 자료형 -> 클래스\n",
        "# 클래스 -> 함수들을 모아놓은 주머니\n",
        "\n",
        "a = 'hel\\'lo world!'\n",
        "a"
      ],
      "execution_count": 27,
      "outputs": [
        {
          "output_type": "execute_result",
          "data": {
            "application/vnd.google.colaboratory.intrinsic+json": {
              "type": "string"
            },
            "text/plain": [
              "\"hel'lo world!\""
            ]
          },
          "metadata": {
            "tags": []
          },
          "execution_count": 27
        }
      ]
    },
    {
      "cell_type": "code",
      "metadata": {
        "colab": {
          "base_uri": "https://localhost:8080/",
          "height": 135
        },
        "id": "pIDn1ZugIurS",
        "outputId": "74eb2769-0f84-4a8e-8cf5-8f7a20c86deb"
      },
      "source": [
        "a = \"hello world!\"\n",
        "a"
      ],
      "execution_count": 24,
      "outputs": [
        {
          "output_type": "error",
          "ename": "SyntaxError",
          "evalue": "ignored",
          "traceback": [
            "\u001b[0;36m  File \u001b[0;32m\"<ipython-input-24-6f6af7e61fe6>\"\u001b[0;36m, line \u001b[0;32m1\u001b[0m\n\u001b[0;31m    a = \"hello\u001b[0m\n\u001b[0m               ^\u001b[0m\n\u001b[0;31mSyntaxError\u001b[0m\u001b[0;31m:\u001b[0m EOL while scanning string literal\n"
          ]
        }
      ]
    },
    {
      "cell_type": "code",
      "metadata": {
        "colab": {
          "base_uri": "https://localhost:8080/",
          "height": 35
        },
        "id": "UojmMPu6IxXn",
        "outputId": "9edaebad-5924-41dd-87e1-129446e8ebcc"
      },
      "source": [
        "a = \"\"\"hello \n",
        "\n",
        "\n",
        "world!\"\"\"\n",
        "a"
      ],
      "execution_count": 25,
      "outputs": [
        {
          "output_type": "execute_result",
          "data": {
            "application/vnd.google.colaboratory.intrinsic+json": {
              "type": "string"
            },
            "text/plain": [
              "'hello \\n\\n\\nworld!'"
            ]
          },
          "metadata": {
            "tags": []
          },
          "execution_count": 25
        }
      ]
    },
    {
      "cell_type": "code",
      "metadata": {
        "colab": {
          "base_uri": "https://localhost:8080/"
        },
        "id": "JOY8E3BsIzU0",
        "outputId": "2a251604-122c-48bd-b77d-df2b41fa981a"
      },
      "source": [
        "'hello world!' == \"hello world!\""
      ],
      "execution_count": 17,
      "outputs": [
        {
          "output_type": "execute_result",
          "data": {
            "text/plain": [
              "True"
            ]
          },
          "metadata": {
            "tags": []
          },
          "execution_count": 17
        }
      ]
    },
    {
      "cell_type": "code",
      "metadata": {
        "id": "hKRepZY-I8YH"
      },
      "source": [
        "a = 'python'\n",
        "b = ' is too fun'"
      ],
      "execution_count": 28,
      "outputs": []
    },
    {
      "cell_type": "code",
      "metadata": {
        "colab": {
          "base_uri": "https://localhost:8080/",
          "height": 35
        },
        "id": "7VFwspMnKfvb",
        "outputId": "98a7fc33-702c-4ed2-dd09-298aa6cf99e6"
      },
      "source": [
        "a + b"
      ],
      "execution_count": 29,
      "outputs": [
        {
          "output_type": "execute_result",
          "data": {
            "application/vnd.google.colaboratory.intrinsic+json": {
              "type": "string"
            },
            "text/plain": [
              "'python is too fun'"
            ]
          },
          "metadata": {
            "tags": []
          },
          "execution_count": 29
        }
      ]
    },
    {
      "cell_type": "code",
      "metadata": {
        "colab": {
          "base_uri": "https://localhost:8080/",
          "height": 170
        },
        "id": "kAFjiFBTKmOf",
        "outputId": "487c4571-1101-423d-ce79-007535e3a2ad"
      },
      "source": [
        "a - b"
      ],
      "execution_count": 30,
      "outputs": [
        {
          "output_type": "error",
          "ename": "TypeError",
          "evalue": "ignored",
          "traceback": [
            "\u001b[0;31m---------------------------------------------------------------------------\u001b[0m",
            "\u001b[0;31mTypeError\u001b[0m                                 Traceback (most recent call last)",
            "\u001b[0;32m<ipython-input-30-09bd029d0285>\u001b[0m in \u001b[0;36m<module>\u001b[0;34m()\u001b[0m\n\u001b[0;32m----> 1\u001b[0;31m \u001b[0ma\u001b[0m \u001b[0;34m-\u001b[0m \u001b[0mb\u001b[0m\u001b[0;34m\u001b[0m\u001b[0;34m\u001b[0m\u001b[0m\n\u001b[0m",
            "\u001b[0;31mTypeError\u001b[0m: unsupported operand type(s) for -: 'str' and 'str'"
          ]
        }
      ]
    },
    {
      "cell_type": "code",
      "metadata": {
        "colab": {
          "base_uri": "https://localhost:8080/",
          "height": 35
        },
        "id": "ebGOtMXxKsH8",
        "outputId": "619ebd66-243b-4de3-edec-b7ecb5b96aa0"
      },
      "source": [
        "a * 5"
      ],
      "execution_count": 31,
      "outputs": [
        {
          "output_type": "execute_result",
          "data": {
            "application/vnd.google.colaboratory.intrinsic+json": {
              "type": "string"
            },
            "text/plain": [
              "'pythonpythonpythonpythonpython'"
            ]
          },
          "metadata": {
            "tags": []
          },
          "execution_count": 31
        }
      ]
    },
    {
      "cell_type": "code",
      "metadata": {
        "colab": {
          "base_uri": "https://localhost:8080/",
          "height": 35
        },
        "id": "khhK2DT1Kvye",
        "outputId": "455449c9-3977-4281-bc95-4cbc3e22cbb9"
      },
      "source": [
        "a[0] # python"
      ],
      "execution_count": 32,
      "outputs": [
        {
          "output_type": "execute_result",
          "data": {
            "application/vnd.google.colaboratory.intrinsic+json": {
              "type": "string"
            },
            "text/plain": [
              "'p'"
            ]
          },
          "metadata": {
            "tags": []
          },
          "execution_count": 32
        }
      ]
    },
    {
      "cell_type": "code",
      "metadata": {
        "colab": {
          "base_uri": "https://localhost:8080/",
          "height": 35
        },
        "id": "4aZxtNLhLALK",
        "outputId": "8a03c57b-2fda-41b0-d29e-90d999f03018"
      },
      "source": [
        "a[3]"
      ],
      "execution_count": 33,
      "outputs": [
        {
          "output_type": "execute_result",
          "data": {
            "application/vnd.google.colaboratory.intrinsic+json": {
              "type": "string"
            },
            "text/plain": [
              "'h'"
            ]
          },
          "metadata": {
            "tags": []
          },
          "execution_count": 33
        }
      ]
    },
    {
      "cell_type": "code",
      "metadata": {
        "colab": {
          "base_uri": "https://localhost:8080/",
          "height": 35
        },
        "id": "hC2oMLHQLG1M",
        "outputId": "30e30e51-b876-48af-e434-fdd13b88490c"
      },
      "source": [
        "a[-1]"
      ],
      "execution_count": 34,
      "outputs": [
        {
          "output_type": "execute_result",
          "data": {
            "application/vnd.google.colaboratory.intrinsic+json": {
              "type": "string"
            },
            "text/plain": [
              "'n'"
            ]
          },
          "metadata": {
            "tags": []
          },
          "execution_count": 34
        }
      ]
    },
    {
      "cell_type": "code",
      "metadata": {
        "colab": {
          "base_uri": "https://localhost:8080/",
          "height": 35
        },
        "id": "16FmbEgrLPgP",
        "outputId": "4da14b4f-4b8d-409d-d885-656e355996d6"
      },
      "source": [
        "a[1:3] # 1부터 3전까지 == 1부터 2까지"
      ],
      "execution_count": 35,
      "outputs": [
        {
          "output_type": "execute_result",
          "data": {
            "application/vnd.google.colaboratory.intrinsic+json": {
              "type": "string"
            },
            "text/plain": [
              "'yt'"
            ]
          },
          "metadata": {
            "tags": []
          },
          "execution_count": 35
        }
      ]
    },
    {
      "cell_type": "code",
      "metadata": {
        "colab": {
          "base_uri": "https://localhost:8080/",
          "height": 35
        },
        "id": "KrL33SXpLcG-",
        "outputId": "2aca95c9-5f17-423e-ec9f-32b824d004ef"
      },
      "source": [
        "a[:3] # 처음부터 3전까지"
      ],
      "execution_count": 36,
      "outputs": [
        {
          "output_type": "execute_result",
          "data": {
            "application/vnd.google.colaboratory.intrinsic+json": {
              "type": "string"
            },
            "text/plain": [
              "'pyt'"
            ]
          },
          "metadata": {
            "tags": []
          },
          "execution_count": 36
        }
      ]
    },
    {
      "cell_type": "code",
      "metadata": {
        "colab": {
          "base_uri": "https://localhost:8080/",
          "height": 35
        },
        "id": "1KONuDoPLkoI",
        "outputId": "7c2dc5a0-59f6-448e-a98a-2c9bea3cd65d"
      },
      "source": [
        "a[1:] # 1부터 끝까지"
      ],
      "execution_count": 37,
      "outputs": [
        {
          "output_type": "execute_result",
          "data": {
            "application/vnd.google.colaboratory.intrinsic+json": {
              "type": "string"
            },
            "text/plain": [
              "'ython'"
            ]
          },
          "metadata": {
            "tags": []
          },
          "execution_count": 37
        }
      ]
    },
    {
      "cell_type": "code",
      "metadata": {
        "colab": {
          "base_uri": "https://localhost:8080/",
          "height": 35
        },
        "id": "2YZ9wqfLLoaN",
        "outputId": "c44f3a8a-f63e-4542-de16-0d32d75fac03"
      },
      "source": [
        "# 문자열 자료형 안에도 함수들이 있다.\n",
        "# 문자열.함수이름\n",
        "\n",
        "'I eat {} apples'.format(3)"
      ],
      "execution_count": 38,
      "outputs": [
        {
          "output_type": "execute_result",
          "data": {
            "application/vnd.google.colaboratory.intrinsic+json": {
              "type": "string"
            },
            "text/plain": [
              "'I eat 3 apples'"
            ]
          },
          "metadata": {
            "tags": []
          },
          "execution_count": 38
        }
      ]
    },
    {
      "cell_type": "code",
      "metadata": {
        "colab": {
          "base_uri": "https://localhost:8080/",
          "height": 35
        },
        "id": "GGuB8MIpMBP9",
        "outputId": "dea79716-cd6c-4772-ef5b-c35fa44ae208"
      },
      "source": [
        "'I eat {} apples and {} oranges'.format(3, 5)"
      ],
      "execution_count": 39,
      "outputs": [
        {
          "output_type": "execute_result",
          "data": {
            "application/vnd.google.colaboratory.intrinsic+json": {
              "type": "string"
            },
            "text/plain": [
              "'I eat 3 apples and 5 oranges'"
            ]
          },
          "metadata": {
            "tags": []
          },
          "execution_count": 39
        }
      ]
    },
    {
      "cell_type": "code",
      "metadata": {
        "colab": {
          "base_uri": "https://localhost:8080/",
          "height": 35
        },
        "id": "F_bkun5sMM8r",
        "outputId": "abcf5725-2600-4f52-8a44-5fd2819d2ae5"
      },
      "source": [
        "a = 3\n",
        "b = 5\n",
        "\n",
        "f'I eat {a} apples and {b} oranges'"
      ],
      "execution_count": 41,
      "outputs": [
        {
          "output_type": "execute_result",
          "data": {
            "application/vnd.google.colaboratory.intrinsic+json": {
              "type": "string"
            },
            "text/plain": [
              "'I eat 3 apples and 5 oranges'"
            ]
          },
          "metadata": {
            "tags": []
          },
          "execution_count": 41
        }
      ]
    },
    {
      "cell_type": "code",
      "metadata": {
        "colab": {
          "base_uri": "https://localhost:8080/",
          "height": 35
        },
        "id": "uHvK6FU0MdhD",
        "outputId": "26170247-8ca7-4334-9263-2a4c6b8a364d"
      },
      "source": [
        "a = 3.141592\n",
        "'{:.2f}'.format(a)"
      ],
      "execution_count": 43,
      "outputs": [
        {
          "output_type": "execute_result",
          "data": {
            "application/vnd.google.colaboratory.intrinsic+json": {
              "type": "string"
            },
            "text/plain": [
              "'3.14'"
            ]
          },
          "metadata": {
            "tags": []
          },
          "execution_count": 43
        }
      ]
    },
    {
      "cell_type": "code",
      "metadata": {
        "colab": {
          "base_uri": "https://localhost:8080/"
        },
        "id": "20vAtpKaMxe9",
        "outputId": "44dce94d-2db6-4644-88eb-4596792e7ec3"
      },
      "source": [
        "a = 'python is too fun'\n",
        "a.count('o')"
      ],
      "execution_count": 44,
      "outputs": [
        {
          "output_type": "execute_result",
          "data": {
            "text/plain": [
              "3"
            ]
          },
          "metadata": {
            "tags": []
          },
          "execution_count": 44
        }
      ]
    },
    {
      "cell_type": "code",
      "metadata": {
        "colab": {
          "base_uri": "https://localhost:8080/"
        },
        "id": "gm3OcjfiNLEn",
        "outputId": "0fd010f1-630c-43ad-f8b0-75ff86000913"
      },
      "source": [
        "a.find('o') # 문자열 안에 존재하는지"
      ],
      "execution_count": 46,
      "outputs": [
        {
          "output_type": "execute_result",
          "data": {
            "text/plain": [
              "4"
            ]
          },
          "metadata": {
            "tags": []
          },
          "execution_count": 46
        }
      ]
    },
    {
      "cell_type": "code",
      "metadata": {
        "colab": {
          "base_uri": "https://localhost:8080/"
        },
        "id": "elpJNx25NSG2",
        "outputId": "419be103-8974-4890-bc98-d86e0eaaeb52"
      },
      "source": [
        "a.find('z')"
      ],
      "execution_count": 47,
      "outputs": [
        {
          "output_type": "execute_result",
          "data": {
            "text/plain": [
              "-1"
            ]
          },
          "metadata": {
            "tags": []
          },
          "execution_count": 47
        }
      ]
    },
    {
      "cell_type": "code",
      "metadata": {
        "colab": {
          "base_uri": "https://localhost:8080/",
          "height": 35
        },
        "id": "iSZR-kUcNZiL",
        "outputId": "0cd976a7-e8bd-468a-9e50-5ff66acd6346"
      },
      "source": [
        "','.join('abcd')"
      ],
      "execution_count": 48,
      "outputs": [
        {
          "output_type": "execute_result",
          "data": {
            "application/vnd.google.colaboratory.intrinsic+json": {
              "type": "string"
            },
            "text/plain": [
              "'a,b,c,d'"
            ]
          },
          "metadata": {
            "tags": []
          },
          "execution_count": 48
        }
      ]
    },
    {
      "cell_type": "code",
      "metadata": {
        "colab": {
          "base_uri": "https://localhost:8080/",
          "height": 35
        },
        "id": "yt8vxb0lNk5d",
        "outputId": "d290cb66-c136-442b-da7a-a1f26986f184"
      },
      "source": [
        "a.upper()"
      ],
      "execution_count": 49,
      "outputs": [
        {
          "output_type": "execute_result",
          "data": {
            "application/vnd.google.colaboratory.intrinsic+json": {
              "type": "string"
            },
            "text/plain": [
              "'PYTHON IS TOO FUN'"
            ]
          },
          "metadata": {
            "tags": []
          },
          "execution_count": 49
        }
      ]
    },
    {
      "cell_type": "code",
      "metadata": {
        "colab": {
          "base_uri": "https://localhost:8080/",
          "height": 35
        },
        "id": "y6tseqw1NooG",
        "outputId": "ba3a5612-52bb-46c6-d6ad-71706ad0844e"
      },
      "source": [
        "a.lower()"
      ],
      "execution_count": 50,
      "outputs": [
        {
          "output_type": "execute_result",
          "data": {
            "application/vnd.google.colaboratory.intrinsic+json": {
              "type": "string"
            },
            "text/plain": [
              "'python is too fun'"
            ]
          },
          "metadata": {
            "tags": []
          },
          "execution_count": 50
        }
      ]
    },
    {
      "cell_type": "code",
      "metadata": {
        "colab": {
          "base_uri": "https://localhost:8080/",
          "height": 35
        },
        "id": "S4NfiOJFNrvR",
        "outputId": "7b3ac603-72e9-4442-9e23-1920651760c6"
      },
      "source": [
        "b = '     hello     '\n",
        "b"
      ],
      "execution_count": 51,
      "outputs": [
        {
          "output_type": "execute_result",
          "data": {
            "application/vnd.google.colaboratory.intrinsic+json": {
              "type": "string"
            },
            "text/plain": [
              "'     hello     '"
            ]
          },
          "metadata": {
            "tags": []
          },
          "execution_count": 51
        }
      ]
    },
    {
      "cell_type": "code",
      "metadata": {
        "colab": {
          "base_uri": "https://localhost:8080/",
          "height": 35
        },
        "id": "7tU_u_iXN1GI",
        "outputId": "429dcf26-2412-46aa-9f9f-7408ef41b616"
      },
      "source": [
        "b.lstrip()"
      ],
      "execution_count": 52,
      "outputs": [
        {
          "output_type": "execute_result",
          "data": {
            "application/vnd.google.colaboratory.intrinsic+json": {
              "type": "string"
            },
            "text/plain": [
              "'hello     '"
            ]
          },
          "metadata": {
            "tags": []
          },
          "execution_count": 52
        }
      ]
    },
    {
      "cell_type": "code",
      "metadata": {
        "colab": {
          "base_uri": "https://localhost:8080/",
          "height": 35
        },
        "id": "_FuEW3q4N4Lk",
        "outputId": "998e0e06-1266-46d3-9ebe-89132b6b3055"
      },
      "source": [
        "b.rstrip()"
      ],
      "execution_count": 53,
      "outputs": [
        {
          "output_type": "execute_result",
          "data": {
            "application/vnd.google.colaboratory.intrinsic+json": {
              "type": "string"
            },
            "text/plain": [
              "'     hello'"
            ]
          },
          "metadata": {
            "tags": []
          },
          "execution_count": 53
        }
      ]
    },
    {
      "cell_type": "code",
      "metadata": {
        "colab": {
          "base_uri": "https://localhost:8080/",
          "height": 35
        },
        "id": "lOiYeKAaN7-3",
        "outputId": "7682a1c5-19fd-4641-a1c9-8e185f299bca"
      },
      "source": [
        "b.strip()"
      ],
      "execution_count": 54,
      "outputs": [
        {
          "output_type": "execute_result",
          "data": {
            "application/vnd.google.colaboratory.intrinsic+json": {
              "type": "string"
            },
            "text/plain": [
              "'hello'"
            ]
          },
          "metadata": {
            "tags": []
          },
          "execution_count": 54
        }
      ]
    },
    {
      "cell_type": "code",
      "metadata": {
        "colab": {
          "base_uri": "https://localhost:8080/",
          "height": 35
        },
        "id": "Z81ylXaYN_ML",
        "outputId": "b57cd56c-73fb-47cf-e507-51d9d09b45c9"
      },
      "source": [
        "a"
      ],
      "execution_count": 55,
      "outputs": [
        {
          "output_type": "execute_result",
          "data": {
            "application/vnd.google.colaboratory.intrinsic+json": {
              "type": "string"
            },
            "text/plain": [
              "'python is too fun'"
            ]
          },
          "metadata": {
            "tags": []
          },
          "execution_count": 55
        }
      ]
    },
    {
      "cell_type": "code",
      "metadata": {
        "colab": {
          "base_uri": "https://localhost:8080/",
          "height": 35
        },
        "id": "M7rUpcWAOBad",
        "outputId": "62ecd15f-cb0b-4357-b514-2f5f81daba74"
      },
      "source": [
        "a.replace('python', 'java')"
      ],
      "execution_count": 56,
      "outputs": [
        {
          "output_type": "execute_result",
          "data": {
            "application/vnd.google.colaboratory.intrinsic+json": {
              "type": "string"
            },
            "text/plain": [
              "'java is too fun'"
            ]
          },
          "metadata": {
            "tags": []
          },
          "execution_count": 56
        }
      ]
    },
    {
      "cell_type": "code",
      "metadata": {
        "colab": {
          "base_uri": "https://localhost:8080/"
        },
        "id": "ryMpR5ZVOE4v",
        "outputId": "8ac9b5f2-5d87-4b1b-b768-289d48bed148"
      },
      "source": [
        "a.split() # 리스트 : 데이터를 저장/관리 기능"
      ],
      "execution_count": 57,
      "outputs": [
        {
          "output_type": "execute_result",
          "data": {
            "text/plain": [
              "['python', 'is', 'too', 'fun']"
            ]
          },
          "metadata": {
            "tags": []
          },
          "execution_count": 57
        }
      ]
    },
    {
      "cell_type": "code",
      "metadata": {
        "colab": {
          "base_uri": "https://localhost:8080/"
        },
        "id": "-np2QT3fOLWV",
        "outputId": "2c93dc63-8724-4bb4-d824-b209a70328ea"
      },
      "source": [
        "# 리스트\n",
        "\n",
        "a = [1,3,5,7,9]\n",
        "a"
      ],
      "execution_count": 58,
      "outputs": [
        {
          "output_type": "execute_result",
          "data": {
            "text/plain": [
              "[1, 3, 5, 7, 9]"
            ]
          },
          "metadata": {
            "tags": []
          },
          "execution_count": 58
        }
      ]
    },
    {
      "cell_type": "code",
      "metadata": {
        "colab": {
          "base_uri": "https://localhost:8080/"
        },
        "id": "aS1nsPh4OqSE",
        "outputId": "41a6dd6c-e3ca-48b0-ee66-00c09836fcd6"
      },
      "source": [
        "a[0]"
      ],
      "execution_count": 59,
      "outputs": [
        {
          "output_type": "execute_result",
          "data": {
            "text/plain": [
              "1"
            ]
          },
          "metadata": {
            "tags": []
          },
          "execution_count": 59
        }
      ]
    },
    {
      "cell_type": "code",
      "metadata": {
        "colab": {
          "base_uri": "https://localhost:8080/"
        },
        "id": "fsA1K6qgOytX",
        "outputId": "9b3ba67c-7034-4b90-bf47-d6245b3fd5c0"
      },
      "source": [
        "a[3]"
      ],
      "execution_count": 60,
      "outputs": [
        {
          "output_type": "execute_result",
          "data": {
            "text/plain": [
              "7"
            ]
          },
          "metadata": {
            "tags": []
          },
          "execution_count": 60
        }
      ]
    },
    {
      "cell_type": "code",
      "metadata": {
        "colab": {
          "base_uri": "https://localhost:8080/"
        },
        "id": "MdhaJ5s_O1_N",
        "outputId": "9fd4ac19-b89c-4716-c09c-bc7ee6944f93"
      },
      "source": [
        "a[-1]"
      ],
      "execution_count": 61,
      "outputs": [
        {
          "output_type": "execute_result",
          "data": {
            "text/plain": [
              "9"
            ]
          },
          "metadata": {
            "tags": []
          },
          "execution_count": 61
        }
      ]
    },
    {
      "cell_type": "code",
      "metadata": {
        "colab": {
          "base_uri": "https://localhost:8080/"
        },
        "id": "wV04UbbwO4Nd",
        "outputId": "172aeaf4-3e0f-42ca-e1f7-67acc1fc3ad7"
      },
      "source": [
        "a[1:3]"
      ],
      "execution_count": 62,
      "outputs": [
        {
          "output_type": "execute_result",
          "data": {
            "text/plain": [
              "[3, 5]"
            ]
          },
          "metadata": {
            "tags": []
          },
          "execution_count": 62
        }
      ]
    },
    {
      "cell_type": "code",
      "metadata": {
        "id": "Jdzzv5HJO-Jq"
      },
      "source": [
        "a = [1,2,3]\n",
        "b = [4,5,6]"
      ],
      "execution_count": 63,
      "outputs": []
    },
    {
      "cell_type": "code",
      "metadata": {
        "colab": {
          "base_uri": "https://localhost:8080/"
        },
        "id": "UqgpL8kQPLFA",
        "outputId": "d60cc6e0-cca7-4997-d812-49e1aafb03e3"
      },
      "source": [
        "a + b"
      ],
      "execution_count": 64,
      "outputs": [
        {
          "output_type": "execute_result",
          "data": {
            "text/plain": [
              "[1, 2, 3, 4, 5, 6]"
            ]
          },
          "metadata": {
            "tags": []
          },
          "execution_count": 64
        }
      ]
    },
    {
      "cell_type": "code",
      "metadata": {
        "colab": {
          "base_uri": "https://localhost:8080/",
          "height": 170
        },
        "id": "PZ8kxOPOPSSd",
        "outputId": "9477842d-1563-4416-feb4-c45fb18ed5e7"
      },
      "source": [
        "a - b"
      ],
      "execution_count": 65,
      "outputs": [
        {
          "output_type": "error",
          "ename": "TypeError",
          "evalue": "ignored",
          "traceback": [
            "\u001b[0;31m---------------------------------------------------------------------------\u001b[0m",
            "\u001b[0;31mTypeError\u001b[0m                                 Traceback (most recent call last)",
            "\u001b[0;32m<ipython-input-65-09bd029d0285>\u001b[0m in \u001b[0;36m<module>\u001b[0;34m()\u001b[0m\n\u001b[0;32m----> 1\u001b[0;31m \u001b[0ma\u001b[0m \u001b[0;34m-\u001b[0m \u001b[0mb\u001b[0m\u001b[0;34m\u001b[0m\u001b[0;34m\u001b[0m\u001b[0m\n\u001b[0m",
            "\u001b[0;31mTypeError\u001b[0m: unsupported operand type(s) for -: 'list' and 'list'"
          ]
        }
      ]
    },
    {
      "cell_type": "code",
      "metadata": {
        "colab": {
          "base_uri": "https://localhost:8080/"
        },
        "id": "PL6SVKojPWHl",
        "outputId": "c3c804af-bee7-47e1-9d40-c77d99c3b493"
      },
      "source": [
        "a * 3"
      ],
      "execution_count": 66,
      "outputs": [
        {
          "output_type": "execute_result",
          "data": {
            "text/plain": [
              "[1, 2, 3, 1, 2, 3, 1, 2, 3]"
            ]
          },
          "metadata": {
            "tags": []
          },
          "execution_count": 66
        }
      ]
    },
    {
      "cell_type": "code",
      "metadata": {
        "colab": {
          "base_uri": "https://localhost:8080/"
        },
        "id": "wuFUjKKPPYSD",
        "outputId": "24128bac-9498-4e7a-fef8-4d6028ef453b"
      },
      "source": [
        "a = [1, 2, 3, [4, 5]] # 숫자 4만 출력해보세요.\n",
        "a[3][0]"
      ],
      "execution_count": 70,
      "outputs": [
        {
          "output_type": "execute_result",
          "data": {
            "text/plain": [
              "4"
            ]
          },
          "metadata": {
            "tags": []
          },
          "execution_count": 70
        }
      ]
    },
    {
      "cell_type": "code",
      "metadata": {
        "colab": {
          "base_uri": "https://localhost:8080/"
        },
        "id": "pUfo3298QNA7",
        "outputId": "9dcd307f-eea2-4090-8791-bd427337546b"
      },
      "source": [
        "a"
      ],
      "execution_count": 71,
      "outputs": [
        {
          "output_type": "execute_result",
          "data": {
            "text/plain": [
              "[1, 2, 3, [4, 5]]"
            ]
          },
          "metadata": {
            "tags": []
          },
          "execution_count": 71
        }
      ]
    },
    {
      "cell_type": "code",
      "metadata": {
        "colab": {
          "base_uri": "https://localhost:8080/"
        },
        "id": "dnyQbKgQQaor",
        "outputId": "80b3ea28-21fe-4277-f5ef-35086ed15716"
      },
      "source": [
        "a = [1,2,3]\n",
        "a"
      ],
      "execution_count": 72,
      "outputs": [
        {
          "output_type": "execute_result",
          "data": {
            "text/plain": [
              "[1, 2, 3]"
            ]
          },
          "metadata": {
            "tags": []
          },
          "execution_count": 72
        }
      ]
    },
    {
      "cell_type": "code",
      "metadata": {
        "colab": {
          "base_uri": "https://localhost:8080/"
        },
        "id": "yz9M9soeQbrz",
        "outputId": "3c690146-6ec2-4a72-f507-39cd58c860f3"
      },
      "source": [
        "a[1] = 8\n",
        "a"
      ],
      "execution_count": 74,
      "outputs": [
        {
          "output_type": "execute_result",
          "data": {
            "text/plain": [
              "[1, 8, 3]"
            ]
          },
          "metadata": {
            "tags": []
          },
          "execution_count": 74
        }
      ]
    },
    {
      "cell_type": "code",
      "metadata": {
        "colab": {
          "base_uri": "https://localhost:8080/"
        },
        "id": "WL1HSw9GQf_Y",
        "outputId": "ac785505-bda4-4185-dfd3-ceedb6e1368c"
      },
      "source": [
        "# 키워드\n",
        "# 리스트 -> 클래스(전용함수) 로 지우는 방법\n",
        "\n",
        "del a[1]\n",
        "a"
      ],
      "execution_count": 75,
      "outputs": [
        {
          "output_type": "execute_result",
          "data": {
            "text/plain": [
              "[1, 3]"
            ]
          },
          "metadata": {
            "tags": []
          },
          "execution_count": 75
        }
      ]
    },
    {
      "cell_type": "code",
      "metadata": {
        "colab": {
          "base_uri": "https://localhost:8080/"
        },
        "id": "WgPe6imEQuPK",
        "outputId": "8015a8e4-65ce-4b2c-c5f8-d07a210d49a8"
      },
      "source": [
        "a = [1,2,3,4,5]\n",
        "del a[2:]\n",
        "a"
      ],
      "execution_count": 76,
      "outputs": [
        {
          "output_type": "execute_result",
          "data": {
            "text/plain": [
              "[1, 2]"
            ]
          },
          "metadata": {
            "tags": []
          },
          "execution_count": 76
        }
      ]
    },
    {
      "cell_type": "code",
      "metadata": {
        "colab": {
          "base_uri": "https://localhost:8080/"
        },
        "id": "fPU80jFqQ03e",
        "outputId": "fc17d518-6054-4026-c253-4d126f6111db"
      },
      "source": [
        "a.append(3)\n",
        "a"
      ],
      "execution_count": 77,
      "outputs": [
        {
          "output_type": "execute_result",
          "data": {
            "text/plain": [
              "[1, 2, 3]"
            ]
          },
          "metadata": {
            "tags": []
          },
          "execution_count": 77
        }
      ]
    },
    {
      "cell_type": "code",
      "metadata": {
        "colab": {
          "base_uri": "https://localhost:8080/"
        },
        "id": "G7ag7htUQ-wF",
        "outputId": "ee8723e6-a615-4f56-bbbd-9a1ae591d650"
      },
      "source": [
        "a.append([4,5])\n",
        "a"
      ],
      "execution_count": 78,
      "outputs": [
        {
          "output_type": "execute_result",
          "data": {
            "text/plain": [
              "[1, 2, 3, [4, 5]]"
            ]
          },
          "metadata": {
            "tags": []
          },
          "execution_count": 78
        }
      ]
    },
    {
      "cell_type": "code",
      "metadata": {
        "colab": {
          "base_uri": "https://localhost:8080/"
        },
        "id": "i-DlMnYnRGxr",
        "outputId": "9eae6dd5-6bf2-4787-d696-a4ca388b2984"
      },
      "source": [
        "a = [1,4,3,2]\n",
        "a"
      ],
      "execution_count": 79,
      "outputs": [
        {
          "output_type": "execute_result",
          "data": {
            "text/plain": [
              "[1, 4, 3, 2]"
            ]
          },
          "metadata": {
            "tags": []
          },
          "execution_count": 79
        }
      ]
    },
    {
      "cell_type": "code",
      "metadata": {
        "colab": {
          "base_uri": "https://localhost:8080/"
        },
        "id": "KPVUck7uRKgJ",
        "outputId": "7dbd6ff3-817c-4812-8de2-fbf7759eeb83"
      },
      "source": [
        "a.sort()\n",
        "a"
      ],
      "execution_count": 80,
      "outputs": [
        {
          "output_type": "execute_result",
          "data": {
            "text/plain": [
              "[1, 2, 3, 4]"
            ]
          },
          "metadata": {
            "tags": []
          },
          "execution_count": 80
        }
      ]
    },
    {
      "cell_type": "code",
      "metadata": {
        "colab": {
          "base_uri": "https://localhost:8080/"
        },
        "id": "pSBC-T4jRMYH",
        "outputId": "f2fedd8e-a582-4045-8788-73dafa5a17bb"
      },
      "source": [
        "a.reverse()\n",
        "a"
      ],
      "execution_count": 81,
      "outputs": [
        {
          "output_type": "execute_result",
          "data": {
            "text/plain": [
              "[4, 3, 2, 1]"
            ]
          },
          "metadata": {
            "tags": []
          },
          "execution_count": 81
        }
      ]
    },
    {
      "cell_type": "code",
      "metadata": {
        "colab": {
          "base_uri": "https://localhost:8080/"
        },
        "id": "hAhL9pW8RO5Z",
        "outputId": "1f6639d3-0963-40aa-8e86-5d588ee5ddcd"
      },
      "source": [
        "a = [1,4,3,2]\n",
        "a.sort(reverse=True)\n",
        "a"
      ],
      "execution_count": 83,
      "outputs": [
        {
          "output_type": "execute_result",
          "data": {
            "text/plain": [
              "[4, 3, 2, 1]"
            ]
          },
          "metadata": {
            "tags": []
          },
          "execution_count": 83
        }
      ]
    },
    {
      "cell_type": "code",
      "metadata": {
        "colab": {
          "base_uri": "https://localhost:8080/"
        },
        "id": "R2aQLxA1Rbd-",
        "outputId": "96a31afd-544d-4833-d1fe-56ce5738e455"
      },
      "source": [
        "a = ['car', 'apple', 'banana']\n",
        "a.sort()\n",
        "a"
      ],
      "execution_count": 84,
      "outputs": [
        {
          "output_type": "execute_result",
          "data": {
            "text/plain": [
              "['apple', 'banana', 'car']"
            ]
          },
          "metadata": {
            "tags": []
          },
          "execution_count": 84
        }
      ]
    },
    {
      "cell_type": "code",
      "metadata": {
        "colab": {
          "base_uri": "https://localhost:8080/"
        },
        "id": "ybeUR2WKRoyd",
        "outputId": "f4340f55-b053-4e3a-eb93-aca0ce06b5c4"
      },
      "source": [
        "a.index('apple')"
      ],
      "execution_count": 85,
      "outputs": [
        {
          "output_type": "execute_result",
          "data": {
            "text/plain": [
              "0"
            ]
          },
          "metadata": {
            "tags": []
          },
          "execution_count": 85
        }
      ]
    },
    {
      "cell_type": "code",
      "metadata": {
        "colab": {
          "base_uri": "https://localhost:8080/",
          "height": 170
        },
        "id": "0jz5jHE1Rv7-",
        "outputId": "395551a5-a1da-47da-aef8-49dd11a930ef"
      },
      "source": [
        "a.index('game')"
      ],
      "execution_count": 86,
      "outputs": [
        {
          "output_type": "error",
          "ename": "ValueError",
          "evalue": "ignored",
          "traceback": [
            "\u001b[0;31m---------------------------------------------------------------------------\u001b[0m",
            "\u001b[0;31mValueError\u001b[0m                                Traceback (most recent call last)",
            "\u001b[0;32m<ipython-input-86-f9d64f063aef>\u001b[0m in \u001b[0;36m<module>\u001b[0;34m()\u001b[0m\n\u001b[0;32m----> 1\u001b[0;31m \u001b[0ma\u001b[0m\u001b[0;34m.\u001b[0m\u001b[0mindex\u001b[0m\u001b[0;34m(\u001b[0m\u001b[0;34m'game'\u001b[0m\u001b[0;34m)\u001b[0m\u001b[0;34m\u001b[0m\u001b[0;34m\u001b[0m\u001b[0m\n\u001b[0m",
            "\u001b[0;31mValueError\u001b[0m: 'game' is not in list"
          ]
        }
      ]
    },
    {
      "cell_type": "code",
      "metadata": {
        "colab": {
          "base_uri": "https://localhost:8080/"
        },
        "id": "3H4pmyj7R1N1",
        "outputId": "2b0700d4-8900-45fd-9d53-45b295cceca3"
      },
      "source": [
        "a = [1,2,3]\n",
        "a.append(4)\n",
        "a"
      ],
      "execution_count": 87,
      "outputs": [
        {
          "output_type": "execute_result",
          "data": {
            "text/plain": [
              "[1, 2, 3, 4]"
            ]
          },
          "metadata": {
            "tags": []
          },
          "execution_count": 87
        }
      ]
    },
    {
      "cell_type": "code",
      "metadata": {
        "colab": {
          "base_uri": "https://localhost:8080/"
        },
        "id": "DPdwEOWvR5x5",
        "outputId": "5a961942-ec78-4ef2-909b-cb71ac20fabc"
      },
      "source": [
        "a.insert(0, 5)\n",
        "a"
      ],
      "execution_count": 88,
      "outputs": [
        {
          "output_type": "execute_result",
          "data": {
            "text/plain": [
              "[5, 1, 2, 3, 4]"
            ]
          },
          "metadata": {
            "tags": []
          },
          "execution_count": 88
        }
      ]
    },
    {
      "cell_type": "code",
      "metadata": {
        "colab": {
          "base_uri": "https://localhost:8080/"
        },
        "id": "AM8JbbDCR_I7",
        "outputId": "949bc37c-fb7d-4b5d-b52f-a0c324a8def5"
      },
      "source": [
        "a.remove(5) # 첫번째로 발견한 5를 지움\n",
        "a"
      ],
      "execution_count": 89,
      "outputs": [
        {
          "output_type": "execute_result",
          "data": {
            "text/plain": [
              "[1, 2, 3, 4]"
            ]
          },
          "metadata": {
            "tags": []
          },
          "execution_count": 89
        }
      ]
    },
    {
      "cell_type": "code",
      "metadata": {
        "colab": {
          "base_uri": "https://localhost:8080/"
        },
        "id": "ChunEFXuSFmu",
        "outputId": "ef3bb4aa-e1e9-4a51-db48-f887a2c11005"
      },
      "source": [
        "a = [1,4,3,2]\n",
        "z = a.remove(2) # a에 직접 접근해서 2를 없앤것\n",
        "print(z)"
      ],
      "execution_count": 90,
      "outputs": [
        {
          "output_type": "stream",
          "text": [
            "None\n"
          ],
          "name": "stdout"
        }
      ]
    },
    {
      "cell_type": "code",
      "metadata": {
        "colab": {
          "base_uri": "https://localhost:8080/"
        },
        "id": "iZNKvRv2SZMm",
        "outputId": "400bacab-8520-4bbd-a316-a093b9c8cbe4"
      },
      "source": [
        "a = [1,4,3,2]\n",
        "z = a.pop(0)\n",
        "print(z)"
      ],
      "execution_count": 94,
      "outputs": [
        {
          "output_type": "stream",
          "text": [
            "1\n"
          ],
          "name": "stdout"
        }
      ]
    },
    {
      "cell_type": "code",
      "metadata": {
        "colab": {
          "base_uri": "https://localhost:8080/"
        },
        "id": "pJ92oLRSSz7n",
        "outputId": "c780fa09-6abf-436d-b5d1-ed7a667e0d8b"
      },
      "source": [
        "a"
      ],
      "execution_count": 93,
      "outputs": [
        {
          "output_type": "execute_result",
          "data": {
            "text/plain": [
              "[1, 4, 3]"
            ]
          },
          "metadata": {
            "tags": []
          },
          "execution_count": 93
        }
      ]
    },
    {
      "cell_type": "code",
      "metadata": {
        "colab": {
          "base_uri": "https://localhost:8080/"
        },
        "id": "1i-M6tTyS7vX",
        "outputId": "69473f99-e9bc-408f-fe8a-ada0fd6b5f26"
      },
      "source": [
        "a = [1,4,3,2,1]\n",
        "a.count(1)"
      ],
      "execution_count": 95,
      "outputs": [
        {
          "output_type": "execute_result",
          "data": {
            "text/plain": [
              "2"
            ]
          },
          "metadata": {
            "tags": []
          },
          "execution_count": 95
        }
      ]
    },
    {
      "cell_type": "code",
      "metadata": {
        "colab": {
          "base_uri": "https://localhost:8080/"
        },
        "id": "l7UwPmJlTICA",
        "outputId": "b59fede3-ea9d-4287-c060-24438c164dcc"
      },
      "source": [
        "# 튜플 자료형 : 리스트랑 거의 똑같다. == 데이터를 저장/관리 기능\n",
        "\n",
        "a = (1,2,3,4,5)\n",
        "a"
      ],
      "execution_count": 96,
      "outputs": [
        {
          "output_type": "execute_result",
          "data": {
            "text/plain": [
              "(1, 2, 3, 4, 5)"
            ]
          },
          "metadata": {
            "tags": []
          },
          "execution_count": 96
        }
      ]
    },
    {
      "cell_type": "code",
      "metadata": {
        "colab": {
          "base_uri": "https://localhost:8080/"
        },
        "id": "WFyukBrhXG11",
        "outputId": "fe23ddfb-8c88-4d1f-95b7-108c08db1ce4"
      },
      "source": [
        "a[0]"
      ],
      "execution_count": 97,
      "outputs": [
        {
          "output_type": "execute_result",
          "data": {
            "text/plain": [
              "1"
            ]
          },
          "metadata": {
            "tags": []
          },
          "execution_count": 97
        }
      ]
    },
    {
      "cell_type": "code",
      "metadata": {
        "colab": {
          "base_uri": "https://localhost:8080/",
          "height": 170
        },
        "id": "egVcyZcRXLgU",
        "outputId": "b21e6f84-7a6f-49f6-acf3-ee3e98b8b494"
      },
      "source": [
        "del a[1]"
      ],
      "execution_count": 98,
      "outputs": [
        {
          "output_type": "error",
          "ename": "TypeError",
          "evalue": "ignored",
          "traceback": [
            "\u001b[0;31m---------------------------------------------------------------------------\u001b[0m",
            "\u001b[0;31mTypeError\u001b[0m                                 Traceback (most recent call last)",
            "\u001b[0;32m<ipython-input-98-d982d7dc2a95>\u001b[0m in \u001b[0;36m<module>\u001b[0;34m()\u001b[0m\n\u001b[0;32m----> 1\u001b[0;31m \u001b[0;32mdel\u001b[0m \u001b[0ma\u001b[0m\u001b[0;34m[\u001b[0m\u001b[0;36m1\u001b[0m\u001b[0;34m]\u001b[0m\u001b[0;34m\u001b[0m\u001b[0;34m\u001b[0m\u001b[0m\n\u001b[0m",
            "\u001b[0;31mTypeError\u001b[0m: 'tuple' object doesn't support item deletion"
          ]
        }
      ]
    },
    {
      "cell_type": "code",
      "metadata": {
        "colab": {
          "base_uri": "https://localhost:8080/"
        },
        "id": "aJMgSdtfXOMO",
        "outputId": "90d1eacf-ce0f-4966-c69a-f44875e3cfce"
      },
      "source": [
        "# 한번 정하면 절대 수정하거나 삭제할수가없다.\n",
        "\n",
        "a = 1,2,3,4\n",
        "a"
      ],
      "execution_count": 99,
      "outputs": [
        {
          "output_type": "execute_result",
          "data": {
            "text/plain": [
              "(1, 2, 3, 4)"
            ]
          },
          "metadata": {
            "tags": []
          },
          "execution_count": 99
        }
      ]
    },
    {
      "cell_type": "code",
      "metadata": {
        "colab": {
          "base_uri": "https://localhost:8080/"
        },
        "id": "7bZHMlPiXVsD",
        "outputId": "d0dc5c1c-26d3-45d9-f551-b645a6259083"
      },
      "source": [
        "a = (1,)\n",
        "a"
      ],
      "execution_count": 103,
      "outputs": [
        {
          "output_type": "execute_result",
          "data": {
            "text/plain": [
              "(1,)"
            ]
          },
          "metadata": {
            "tags": []
          },
          "execution_count": 103
        }
      ]
    },
    {
      "cell_type": "code",
      "metadata": {
        "colab": {
          "base_uri": "https://localhost:8080/"
        },
        "id": "aFvHWXdwXZv_",
        "outputId": "c8c73431-cb34-4384-c4a4-fa4f5589dda2"
      },
      "source": [
        "a = [1,2,3,4,5]\n",
        "print(a)"
      ],
      "execution_count": 104,
      "outputs": [
        {
          "output_type": "stream",
          "text": [
            "[1, 2, 3, 4, 5]\n"
          ],
          "name": "stdout"
        }
      ]
    },
    {
      "cell_type": "code",
      "metadata": {
        "colab": {
          "base_uri": "https://localhost:8080/"
        },
        "id": "VKpsh8D4XtFs",
        "outputId": "bc595c18-4259-4f6b-fe65-21ac3e5f4437"
      },
      "source": [
        "len(a)"
      ],
      "execution_count": 105,
      "outputs": [
        {
          "output_type": "execute_result",
          "data": {
            "text/plain": [
              "5"
            ]
          },
          "metadata": {
            "tags": []
          },
          "execution_count": 105
        }
      ]
    },
    {
      "cell_type": "code",
      "metadata": {
        "colab": {
          "base_uri": "https://localhost:8080/"
        },
        "id": "b60v79r8XuKB",
        "outputId": "4c69bdfd-7d96-4760-ba76-a987af6601f2"
      },
      "source": [
        "a = 'python'\n",
        "len(a)"
      ],
      "execution_count": 106,
      "outputs": [
        {
          "output_type": "execute_result",
          "data": {
            "text/plain": [
              "6"
            ]
          },
          "metadata": {
            "tags": []
          },
          "execution_count": 106
        }
      ]
    },
    {
      "cell_type": "code",
      "metadata": {
        "colab": {
          "base_uri": "https://localhost:8080/"
        },
        "id": "9yyXPW_wX0UR",
        "outputId": "3f1b3c06-4a94-4fb9-fce1-8d03398cff1e"
      },
      "source": [
        "# 딕셔너리(사전)\n",
        "\n",
        "a = {'이름':'곽경일', '나이':29, '성별':'남자'}\n",
        "a"
      ],
      "execution_count": 107,
      "outputs": [
        {
          "output_type": "execute_result",
          "data": {
            "text/plain": [
              "{'나이': 29, '성별': '남자', '이름': '곽경일'}"
            ]
          },
          "metadata": {
            "tags": []
          },
          "execution_count": 107
        }
      ]
    },
    {
      "cell_type": "code",
      "metadata": {
        "colab": {
          "base_uri": "https://localhost:8080/",
          "height": 35
        },
        "id": "hBkc8kdqYXFw",
        "outputId": "a3ecb2c3-5b10-4ead-ff8d-6a1e6ce2e152"
      },
      "source": [
        "a['이름']"
      ],
      "execution_count": 108,
      "outputs": [
        {
          "output_type": "execute_result",
          "data": {
            "application/vnd.google.colaboratory.intrinsic+json": {
              "type": "string"
            },
            "text/plain": [
              "'곽경일'"
            ]
          },
          "metadata": {
            "tags": []
          },
          "execution_count": 108
        }
      ]
    },
    {
      "cell_type": "code",
      "metadata": {
        "colab": {
          "base_uri": "https://localhost:8080/",
          "height": 170
        },
        "id": "ouqpdPujYcE3",
        "outputId": "48a1e0d9-cc5f-4dd3-ffbc-516cadd7d981"
      },
      "source": [
        "# 접근할땐, 무조건 key값기준\n",
        "a['곽경일']"
      ],
      "execution_count": 109,
      "outputs": [
        {
          "output_type": "error",
          "ename": "KeyError",
          "evalue": "ignored",
          "traceback": [
            "\u001b[0;31m---------------------------------------------------------------------------\u001b[0m",
            "\u001b[0;31mKeyError\u001b[0m                                  Traceback (most recent call last)",
            "\u001b[0;32m<ipython-input-109-322f81e18041>\u001b[0m in \u001b[0;36m<module>\u001b[0;34m()\u001b[0m\n\u001b[0;32m----> 1\u001b[0;31m \u001b[0ma\u001b[0m\u001b[0;34m[\u001b[0m\u001b[0;34m'곽경일'\u001b[0m\u001b[0;34m]\u001b[0m\u001b[0;34m\u001b[0m\u001b[0;34m\u001b[0m\u001b[0m\n\u001b[0m",
            "\u001b[0;31mKeyError\u001b[0m: '곽경일'"
          ]
        }
      ]
    },
    {
      "cell_type": "code",
      "metadata": {
        "colab": {
          "base_uri": "https://localhost:8080/"
        },
        "id": "Zfpxku6mYkTk",
        "outputId": "9c3fb289-4e4f-48e7-9829-ee92baadd64b"
      },
      "source": [
        "a['이메일'] = 'masterkyungil@gmail.com'\n",
        "a"
      ],
      "execution_count": 110,
      "outputs": [
        {
          "output_type": "execute_result",
          "data": {
            "text/plain": [
              "{'나이': 29, '성별': '남자', '이름': '곽경일', '이메일': 'masterkyungil@gmail.com'}"
            ]
          },
          "metadata": {
            "tags": []
          },
          "execution_count": 110
        }
      ]
    },
    {
      "cell_type": "code",
      "metadata": {
        "colab": {
          "base_uri": "https://localhost:8080/"
        },
        "id": "afy-Jd9hYzko",
        "outputId": "1d4fb66e-fc5e-46b6-83a1-7c5db2d5f40a"
      },
      "source": [
        "a['성별'] = '여자'\n",
        "a"
      ],
      "execution_count": 111,
      "outputs": [
        {
          "output_type": "execute_result",
          "data": {
            "text/plain": [
              "{'나이': 29, '성별': '여자', '이름': '곽경일', '이메일': 'masterkyungil@gmail.com'}"
            ]
          },
          "metadata": {
            "tags": []
          },
          "execution_count": 111
        }
      ]
    },
    {
      "cell_type": "code",
      "metadata": {
        "colab": {
          "base_uri": "https://localhost:8080/"
        },
        "id": "FV_uwMS5Y3cu",
        "outputId": "c9c7c19b-a83d-4602-fef6-b407fbf9f5c0"
      },
      "source": [
        "# 딕셔너리 -> 클래스\n",
        "a.keys()"
      ],
      "execution_count": 112,
      "outputs": [
        {
          "output_type": "execute_result",
          "data": {
            "text/plain": [
              "dict_keys(['이름', '나이', '성별', '이메일'])"
            ]
          },
          "metadata": {
            "tags": []
          },
          "execution_count": 112
        }
      ]
    },
    {
      "cell_type": "code",
      "metadata": {
        "colab": {
          "base_uri": "https://localhost:8080/"
        },
        "id": "OJ8IbOC2Y-Tf",
        "outputId": "7ed624a8-98fc-4c35-ba45-5ffca05bb9ae"
      },
      "source": [
        "a.values()"
      ],
      "execution_count": 113,
      "outputs": [
        {
          "output_type": "execute_result",
          "data": {
            "text/plain": [
              "dict_values(['곽경일', 29, '여자', 'masterkyungil@gmail.com'])"
            ]
          },
          "metadata": {
            "tags": []
          },
          "execution_count": 113
        }
      ]
    },
    {
      "cell_type": "code",
      "metadata": {
        "colab": {
          "base_uri": "https://localhost:8080/"
        },
        "id": "0IotEIXbZD3U",
        "outputId": "64817072-852a-4c3e-d34d-876ceb97788b"
      },
      "source": [
        "a.items()"
      ],
      "execution_count": 114,
      "outputs": [
        {
          "output_type": "execute_result",
          "data": {
            "text/plain": [
              "dict_items([('이름', '곽경일'), ('나이', 29), ('성별', '여자'), ('이메일', 'masterkyungil@gmail.com')])"
            ]
          },
          "metadata": {
            "tags": []
          },
          "execution_count": 114
        }
      ]
    },
    {
      "cell_type": "code",
      "metadata": {
        "colab": {
          "base_uri": "https://localhost:8080/"
        },
        "id": "2PkyisppZNfo",
        "outputId": "8faa3a0e-dfa2-436e-ee17-4ecbbacaf11b"
      },
      "source": [
        "del a['이름']\n",
        "a"
      ],
      "execution_count": 115,
      "outputs": [
        {
          "output_type": "execute_result",
          "data": {
            "text/plain": [
              "{'나이': 29, '성별': '여자', '이메일': 'masterkyungil@gmail.com'}"
            ]
          },
          "metadata": {
            "tags": []
          },
          "execution_count": 115
        }
      ]
    },
    {
      "cell_type": "code",
      "metadata": {
        "colab": {
          "base_uri": "https://localhost:8080/"
        },
        "id": "EN2GdJW_ZUq1",
        "outputId": "ed7953ac-69bd-423c-cd5b-e4a282667d2a"
      },
      "source": [
        "# 집합\n",
        "\n",
        "# 1. 순서가 없다.\n",
        "# 2. 중복을 허용하지않는다.\n",
        "\n",
        "a = set([1,2,3,1,1,1])\n",
        "a"
      ],
      "execution_count": 116,
      "outputs": [
        {
          "output_type": "execute_result",
          "data": {
            "text/plain": [
              "{1, 2, 3}"
            ]
          },
          "metadata": {
            "tags": []
          },
          "execution_count": 116
        }
      ]
    },
    {
      "cell_type": "code",
      "metadata": {
        "colab": {
          "base_uri": "https://localhost:8080/"
        },
        "id": "0pQpfOhXaJ5g",
        "outputId": "99658694-04b9-4b60-e8ed-e5437bca620f"
      },
      "source": [
        "a = set('hello world!')\n",
        "a"
      ],
      "execution_count": 117,
      "outputs": [
        {
          "output_type": "execute_result",
          "data": {
            "text/plain": [
              "{' ', '!', 'd', 'e', 'h', 'l', 'o', 'r', 'w'}"
            ]
          },
          "metadata": {
            "tags": []
          },
          "execution_count": 117
        }
      ]
    },
    {
      "cell_type": "code",
      "metadata": {
        "colab": {
          "base_uri": "https://localhost:8080/"
        },
        "id": "PEJccHghaYPv",
        "outputId": "26c14589-9e1b-4f12-da9d-d256854ef1e8"
      },
      "source": [
        "list(a)"
      ],
      "execution_count": 118,
      "outputs": [
        {
          "output_type": "execute_result",
          "data": {
            "text/plain": [
              "['h', 'r', 'w', 'o', 'd', 'e', 'l', '!', ' ']"
            ]
          },
          "metadata": {
            "tags": []
          },
          "execution_count": 118
        }
      ]
    },
    {
      "cell_type": "code",
      "metadata": {
        "id": "mfYuNeHGahT6"
      },
      "source": [
        "a = set([1,2,3,4,5,6])\n",
        "b = set([4,5,6,7,8,9])"
      ],
      "execution_count": 119,
      "outputs": []
    },
    {
      "cell_type": "code",
      "metadata": {
        "colab": {
          "base_uri": "https://localhost:8080/"
        },
        "id": "SumelcQPaqnU",
        "outputId": "483ce7fd-6810-4bf5-8e01-4dc5348c8046"
      },
      "source": [
        "a & b"
      ],
      "execution_count": 120,
      "outputs": [
        {
          "output_type": "execute_result",
          "data": {
            "text/plain": [
              "{4, 5, 6}"
            ]
          },
          "metadata": {
            "tags": []
          },
          "execution_count": 120
        }
      ]
    },
    {
      "cell_type": "code",
      "metadata": {
        "colab": {
          "base_uri": "https://localhost:8080/"
        },
        "id": "nPrCXkwIavLb",
        "outputId": "10c073c6-0bce-41f1-838b-a1200dcc5f84"
      },
      "source": [
        "a | b"
      ],
      "execution_count": 121,
      "outputs": [
        {
          "output_type": "execute_result",
          "data": {
            "text/plain": [
              "{1, 2, 3, 4, 5, 6, 7, 8, 9}"
            ]
          },
          "metadata": {
            "tags": []
          },
          "execution_count": 121
        }
      ]
    },
    {
      "cell_type": "code",
      "metadata": {
        "colab": {
          "base_uri": "https://localhost:8080/"
        },
        "id": "XDEqwCLva2TB",
        "outputId": "517482bf-ad1d-4b56-80ab-73592e25ab75"
      },
      "source": [
        "a - b"
      ],
      "execution_count": 122,
      "outputs": [
        {
          "output_type": "execute_result",
          "data": {
            "text/plain": [
              "{1, 2, 3}"
            ]
          },
          "metadata": {
            "tags": []
          },
          "execution_count": 122
        }
      ]
    },
    {
      "cell_type": "code",
      "metadata": {
        "colab": {
          "base_uri": "https://localhost:8080/"
        },
        "id": "8OfsNFTna7jr",
        "outputId": "1f77d2db-ac34-450b-92bb-b45287d4db5e"
      },
      "source": [
        "a.add(7)\n",
        "a"
      ],
      "execution_count": 123,
      "outputs": [
        {
          "output_type": "execute_result",
          "data": {
            "text/plain": [
              "{1, 2, 3, 4, 5, 6, 7}"
            ]
          },
          "metadata": {
            "tags": []
          },
          "execution_count": 123
        }
      ]
    },
    {
      "cell_type": "code",
      "metadata": {
        "colab": {
          "base_uri": "https://localhost:8080/"
        },
        "id": "v1KdJOZ1bAkv",
        "outputId": "356f5e2a-22cf-4fb8-f0e5-86b29cd4f309"
      },
      "source": [
        "a.update([8,9,10])\n",
        "a"
      ],
      "execution_count": 124,
      "outputs": [
        {
          "output_type": "execute_result",
          "data": {
            "text/plain": [
              "{1, 2, 3, 4, 5, 6, 7, 8, 9, 10}"
            ]
          },
          "metadata": {
            "tags": []
          },
          "execution_count": 124
        }
      ]
    },
    {
      "cell_type": "code",
      "metadata": {
        "colab": {
          "base_uri": "https://localhost:8080/"
        },
        "id": "hVdLwEu8bE4g",
        "outputId": "d0a19ac5-3b8b-4c21-e97d-eddb9d42448f"
      },
      "source": [
        "a.remove(10)\n",
        "a"
      ],
      "execution_count": 125,
      "outputs": [
        {
          "output_type": "execute_result",
          "data": {
            "text/plain": [
              "{1, 2, 3, 4, 5, 6, 7, 8, 9}"
            ]
          },
          "metadata": {
            "tags": []
          },
          "execution_count": 125
        }
      ]
    },
    {
      "cell_type": "code",
      "metadata": {
        "colab": {
          "base_uri": "https://localhost:8080/"
        },
        "id": "I74i05jsbK9L",
        "outputId": "9f0cd6e7-44eb-4e0d-8184-55d0de073b7d"
      },
      "source": [
        "# 불 자료형 : 참과 거짓\n",
        "\n",
        "5 > 4"
      ],
      "execution_count": 126,
      "outputs": [
        {
          "output_type": "execute_result",
          "data": {
            "text/plain": [
              "True"
            ]
          },
          "metadata": {
            "tags": []
          },
          "execution_count": 126
        }
      ]
    },
    {
      "cell_type": "code",
      "metadata": {
        "colab": {
          "base_uri": "https://localhost:8080/"
        },
        "id": "5UgUN2xmbX0w",
        "outputId": "30813747-e51e-4ea2-ef23-949f81687c43"
      },
      "source": [
        "4 == 4"
      ],
      "execution_count": 127,
      "outputs": [
        {
          "output_type": "execute_result",
          "data": {
            "text/plain": [
              "True"
            ]
          },
          "metadata": {
            "tags": []
          },
          "execution_count": 127
        }
      ]
    },
    {
      "cell_type": "code",
      "metadata": {
        "colab": {
          "base_uri": "https://localhost:8080/"
        },
        "id": "mJ4jlD4CbZIa",
        "outputId": "ae2a1549-b963-48bd-b41c-5ad9094a9ed0"
      },
      "source": [
        "2 > 5"
      ],
      "execution_count": 128,
      "outputs": [
        {
          "output_type": "execute_result",
          "data": {
            "text/plain": [
              "False"
            ]
          },
          "metadata": {
            "tags": []
          },
          "execution_count": 128
        }
      ]
    },
    {
      "cell_type": "code",
      "metadata": {
        "colab": {
          "base_uri": "https://localhost:8080/"
        },
        "id": "AP73CvIobabM",
        "outputId": "4f86ecb0-950f-4b6c-d269-53be0b2467cb"
      },
      "source": [
        "# 비어있으면 False\n",
        "\n",
        "bool(0)"
      ],
      "execution_count": 129,
      "outputs": [
        {
          "output_type": "execute_result",
          "data": {
            "text/plain": [
              "False"
            ]
          },
          "metadata": {
            "tags": []
          },
          "execution_count": 129
        }
      ]
    },
    {
      "cell_type": "code",
      "metadata": {
        "colab": {
          "base_uri": "https://localhost:8080/"
        },
        "id": "GiKNimHDbwF3",
        "outputId": "310d7231-e520-488f-8e72-aa184dcf3726"
      },
      "source": [
        "bool(5)"
      ],
      "execution_count": 130,
      "outputs": [
        {
          "output_type": "execute_result",
          "data": {
            "text/plain": [
              "True"
            ]
          },
          "metadata": {
            "tags": []
          },
          "execution_count": 130
        }
      ]
    },
    {
      "cell_type": "code",
      "metadata": {
        "colab": {
          "base_uri": "https://localhost:8080/"
        },
        "id": "HtBQGG3SbxGr",
        "outputId": "ed17be01-af6a-4512-8221-c67f3cd10eaa"
      },
      "source": [
        "bool(-5)"
      ],
      "execution_count": 131,
      "outputs": [
        {
          "output_type": "execute_result",
          "data": {
            "text/plain": [
              "True"
            ]
          },
          "metadata": {
            "tags": []
          },
          "execution_count": 131
        }
      ]
    },
    {
      "cell_type": "code",
      "metadata": {
        "colab": {
          "base_uri": "https://localhost:8080/"
        },
        "id": "I0S6Kcchbx-w",
        "outputId": "0c79cd5c-93c7-47eb-92ab-05a3e40aca0c"
      },
      "source": [
        "bool('')"
      ],
      "execution_count": 132,
      "outputs": [
        {
          "output_type": "execute_result",
          "data": {
            "text/plain": [
              "False"
            ]
          },
          "metadata": {
            "tags": []
          },
          "execution_count": 132
        }
      ]
    },
    {
      "cell_type": "code",
      "metadata": {
        "colab": {
          "base_uri": "https://localhost:8080/"
        },
        "id": "wr64XFTXbzYd",
        "outputId": "1af804a9-c0b3-4c1f-f4d4-9ffb454db4aa"
      },
      "source": [
        "bool('t')"
      ],
      "execution_count": 133,
      "outputs": [
        {
          "output_type": "execute_result",
          "data": {
            "text/plain": [
              "True"
            ]
          },
          "metadata": {
            "tags": []
          },
          "execution_count": 133
        }
      ]
    },
    {
      "cell_type": "code",
      "metadata": {
        "colab": {
          "base_uri": "https://localhost:8080/"
        },
        "id": "PHgGx5Uxb06-",
        "outputId": "b8f7ee0d-507b-4aed-add0-9b57113b101d"
      },
      "source": [
        "bool([])"
      ],
      "execution_count": 134,
      "outputs": [
        {
          "output_type": "execute_result",
          "data": {
            "text/plain": [
              "False"
            ]
          },
          "metadata": {
            "tags": []
          },
          "execution_count": 134
        }
      ]
    },
    {
      "cell_type": "code",
      "metadata": {
        "colab": {
          "base_uri": "https://localhost:8080/"
        },
        "id": "VtOO-Gccb2cQ",
        "outputId": "f6465f22-8ec1-44f2-f093-4790c86a4a7c"
      },
      "source": [
        "bool([3])"
      ],
      "execution_count": 135,
      "outputs": [
        {
          "output_type": "execute_result",
          "data": {
            "text/plain": [
              "True"
            ]
          },
          "metadata": {
            "tags": []
          },
          "execution_count": 135
        }
      ]
    },
    {
      "cell_type": "code",
      "metadata": {
        "colab": {
          "base_uri": "https://localhost:8080/"
        },
        "id": "O7PfSyEYb3pI",
        "outputId": "ced1a63c-f190-49cd-bdf9-116f946c3ce3"
      },
      "source": [
        "a = 3\n",
        "b = 5\n",
        "\n",
        "a,b = b,a\n",
        "\n",
        "print(a, b)"
      ],
      "execution_count": 139,
      "outputs": [
        {
          "output_type": "stream",
          "text": [
            "5 3\n"
          ],
          "name": "stdout"
        }
      ]
    },
    {
      "cell_type": "code",
      "metadata": {
        "colab": {
          "base_uri": "https://localhost:8080/"
        },
        "id": "xE2bS_CncFG7",
        "outputId": "bccded8f-3669-4dae-8c71-e40f95bfa426"
      },
      "source": [
        "a = 5\n",
        "b = a\n",
        "b = 3\n",
        "b"
      ],
      "execution_count": 140,
      "outputs": [
        {
          "output_type": "execute_result",
          "data": {
            "text/plain": [
              "3"
            ]
          },
          "metadata": {
            "tags": []
          },
          "execution_count": 140
        }
      ]
    },
    {
      "cell_type": "code",
      "metadata": {
        "colab": {
          "base_uri": "https://localhost:8080/"
        },
        "id": "RouFB6LCdfx9",
        "outputId": "f027e087-66ac-439e-f830-ec74a8f3eb69"
      },
      "source": [
        "a"
      ],
      "execution_count": 141,
      "outputs": [
        {
          "output_type": "execute_result",
          "data": {
            "text/plain": [
              "5"
            ]
          },
          "metadata": {
            "tags": []
          },
          "execution_count": 141
        }
      ]
    },
    {
      "cell_type": "code",
      "metadata": {
        "colab": {
          "base_uri": "https://localhost:8080/"
        },
        "id": "nRxDupnvdi1h",
        "outputId": "324cd00f-e843-4af5-a571-bab86df31003"
      },
      "source": [
        "a = [1,2,3,4,5]\n",
        "b = a[:]\n",
        "b[1] = 10\n",
        "b"
      ],
      "execution_count": 144,
      "outputs": [
        {
          "output_type": "execute_result",
          "data": {
            "text/plain": [
              "[1, 10, 3, 4, 5]"
            ]
          },
          "metadata": {
            "tags": []
          },
          "execution_count": 144
        }
      ]
    },
    {
      "cell_type": "code",
      "metadata": {
        "colab": {
          "base_uri": "https://localhost:8080/"
        },
        "id": "DB7lnDyydz8i",
        "outputId": "5a61d695-4131-4d82-9952-206c75aa1bb4"
      },
      "source": [
        "a"
      ],
      "execution_count": 145,
      "outputs": [
        {
          "output_type": "execute_result",
          "data": {
            "text/plain": [
              "[1, 2, 3, 4, 5]"
            ]
          },
          "metadata": {
            "tags": []
          },
          "execution_count": 145
        }
      ]
    },
    {
      "cell_type": "code",
      "metadata": {
        "id": "5ms9s5L-d5EG"
      },
      "source": [
        "a, b = 3, 5"
      ],
      "execution_count": 146,
      "outputs": []
    },
    {
      "cell_type": "code",
      "metadata": {
        "id": "Wo7H9_QCe0Ol"
      },
      "source": [
        "a, b = [3, 5]"
      ],
      "execution_count": 147,
      "outputs": []
    },
    {
      "cell_type": "code",
      "metadata": {
        "colab": {
          "base_uri": "https://localhost:8080/"
        },
        "id": "XLtbWz0Oe2X1",
        "outputId": "2e5462f6-fb2c-4f2c-cc17-294fc0c907e8"
      },
      "source": [
        "print(a, b)"
      ],
      "execution_count": 148,
      "outputs": [
        {
          "output_type": "stream",
          "text": [
            "3 5\n"
          ],
          "name": "stdout"
        }
      ]
    },
    {
      "cell_type": "code",
      "metadata": {
        "colab": {
          "base_uri": "https://localhost:8080/",
          "height": 35
        },
        "id": "qBjW1If0e28b",
        "outputId": "7fa875e7-a082-455c-82aa-fda8db1abce4"
      },
      "source": [
        "a = \"881120-1068234\" # 뒷자리만 출력해보세요. 1068234\n",
        "a[7:]"
      ],
      "execution_count": 149,
      "outputs": [
        {
          "output_type": "execute_result",
          "data": {
            "application/vnd.google.colaboratory.intrinsic+json": {
              "type": "string"
            },
            "text/plain": [
              "'1068234'"
            ]
          },
          "metadata": {
            "tags": []
          },
          "execution_count": 149
        }
      ]
    },
    {
      "cell_type": "code",
      "metadata": {
        "colab": {
          "base_uri": "https://localhost:8080/",
          "height": 35
        },
        "id": "TTY5Su3kf2kY",
        "outputId": "e7b3df93-3321-4805-df1b-1a99abfc9d3c"
      },
      "source": [
        "a.split('-')[1]"
      ],
      "execution_count": 151,
      "outputs": [
        {
          "output_type": "execute_result",
          "data": {
            "application/vnd.google.colaboratory.intrinsic+json": {
              "type": "string"
            },
            "text/plain": [
              "'1068234'"
            ]
          },
          "metadata": {
            "tags": []
          },
          "execution_count": 151
        }
      ]
    },
    {
      "cell_type": "code",
      "metadata": {
        "colab": {
          "base_uri": "https://localhost:8080/",
          "height": 35
        },
        "id": "81ofkDIEf5SY",
        "outputId": "62c5b7d7-a610-46b0-a56d-f95d3e9d23cf"
      },
      "source": [
        "a = 'a:b:c:d' # a#b#c#d\n",
        "a.replace(':', '#')"
      ],
      "execution_count": 152,
      "outputs": [
        {
          "output_type": "execute_result",
          "data": {
            "application/vnd.google.colaboratory.intrinsic+json": {
              "type": "string"
            },
            "text/plain": [
              "'a#b#c#d'"
            ]
          },
          "metadata": {
            "tags": []
          },
          "execution_count": 152
        }
      ]
    },
    {
      "cell_type": "code",
      "metadata": {
        "colab": {
          "base_uri": "https://localhost:8080/"
        },
        "id": "JL7l_TPxgpwy",
        "outputId": "25a95d8e-6228-4473-e81f-6fc22582fff5"
      },
      "source": [
        "a = [1,3,5,4,2] # [5,4,3,2,1]\n",
        "a.sort()\n",
        "a.reverse()\n",
        "a"
      ],
      "execution_count": 153,
      "outputs": [
        {
          "output_type": "execute_result",
          "data": {
            "text/plain": [
              "[5, 4, 3, 2, 1]"
            ]
          },
          "metadata": {
            "tags": []
          },
          "execution_count": 153
        }
      ]
    },
    {
      "cell_type": "code",
      "metadata": {
        "colab": {
          "base_uri": "https://localhost:8080/"
        },
        "id": "LrB-GZHRhJyy",
        "outputId": "865cc705-107e-42d1-e957-fae3d4b94281"
      },
      "source": [
        "a = [1,3,5,4,2] # [5,4,3,2,1]\n",
        "a.sort(reverse=True)\n",
        "a"
      ],
      "execution_count": 154,
      "outputs": [
        {
          "output_type": "execute_result",
          "data": {
            "text/plain": [
              "[5, 4, 3, 2, 1]"
            ]
          },
          "metadata": {
            "tags": []
          },
          "execution_count": 154
        }
      ]
    },
    {
      "cell_type": "code",
      "metadata": {
        "colab": {
          "base_uri": "https://localhost:8080/",
          "height": 35
        },
        "id": "bp1zcHcShNyQ",
        "outputId": "b78603dd-5791-4346-f474-9c6b80263da7"
      },
      "source": [
        "a = ['Python', 'is', 'too' , 'fun']\n",
        "# 'Python is too fun'\n",
        "' '.join(a)"
      ],
      "execution_count": 155,
      "outputs": [
        {
          "output_type": "execute_result",
          "data": {
            "application/vnd.google.colaboratory.intrinsic+json": {
              "type": "string"
            },
            "text/plain": [
              "'Python is too fun'"
            ]
          },
          "metadata": {
            "tags": []
          },
          "execution_count": 155
        }
      ]
    },
    {
      "cell_type": "code",
      "metadata": {
        "colab": {
          "base_uri": "https://localhost:8080/"
        },
        "id": "dvq7NT6Th-Oa",
        "outputId": "fa35a384-88c9-454c-878a-a364aa4b5ff5"
      },
      "source": [
        "a = (1,2,3) # (1,2,3,4)\n",
        "\n",
        "# list\n",
        "# tuple\n",
        "\n",
        "a = list(a)\n",
        "a.append(4)\n",
        "tuple(a)"
      ],
      "execution_count": 157,
      "outputs": [
        {
          "output_type": "execute_result",
          "data": {
            "text/plain": [
              "(1, 2, 3, 4)"
            ]
          },
          "metadata": {
            "tags": []
          },
          "execution_count": 157
        }
      ]
    },
    {
      "cell_type": "code",
      "metadata": {
        "colab": {
          "base_uri": "https://localhost:8080/"
        },
        "id": "EELb7Fn3i-qm",
        "outputId": "1c306f39-5b4d-497f-9839-df3412f2f3a6"
      },
      "source": [
        "a = [1,1,1,2,2,2,3,3,3,3,4,4,4,5,5]\n",
        "# [1,2,3,4,5]\n",
        "list(set(a))"
      ],
      "execution_count": 158,
      "outputs": [
        {
          "output_type": "execute_result",
          "data": {
            "text/plain": [
              "[1, 2, 3, 4, 5]"
            ]
          },
          "metadata": {
            "tags": []
          },
          "execution_count": 158
        }
      ]
    },
    {
      "cell_type": "code",
      "metadata": {
        "colab": {
          "base_uri": "https://localhost:8080/"
        },
        "id": "7NvdoXikjs49",
        "outputId": "a6aacaa5-8583-4f5a-ea21-bcc598737a0c"
      },
      "source": [
        "# 조건문 IF\n",
        "\n",
        "money = True\n",
        "\n",
        "# if 조건:\n",
        "\n",
        "if money != True:\n",
        "    print('taxi')\n",
        "else:\n",
        "    print('walk')"
      ],
      "execution_count": 160,
      "outputs": [
        {
          "output_type": "stream",
          "text": [
            "walk\n"
          ],
          "name": "stdout"
        }
      ]
    },
    {
      "cell_type": "code",
      "metadata": {
        "colab": {
          "base_uri": "https://localhost:8080/"
        },
        "id": "F5NR6yfhkXQZ",
        "outputId": "7ce85b80-224a-4ff4-f8a1-8ac74659a867"
      },
      "source": [
        "money = 2000\n",
        "\n",
        "if money >= 3000:\n",
        "  print('taxi')\n",
        "else:\n",
        "  print('walk')"
      ],
      "execution_count": 161,
      "outputs": [
        {
          "output_type": "stream",
          "text": [
            "walk\n"
          ],
          "name": "stdout"
        }
      ]
    },
    {
      "cell_type": "code",
      "metadata": {
        "colab": {
          "base_uri": "https://localhost:8080/"
        },
        "id": "Z-w761-zkpKA",
        "outputId": "6c41abb6-da9f-4197-d9a3-bf2398e24a26"
      },
      "source": [
        "money = 2000\n",
        "card = True\n",
        "\n",
        "if money >= 3000 or card == True:\n",
        "  print('taxi')\n",
        "else:\n",
        "  print('walk')"
      ],
      "execution_count": 162,
      "outputs": [
        {
          "output_type": "stream",
          "text": [
            "taxi\n"
          ],
          "name": "stdout"
        }
      ]
    },
    {
      "cell_type": "code",
      "metadata": {
        "colab": {
          "base_uri": "https://localhost:8080/"
        },
        "id": "APJOk9Gok0fc",
        "outputId": "9da00a97-8e00-4d3d-f4c9-dd27230846cf"
      },
      "source": [
        "money = 2000\n",
        "card = True\n",
        "\n",
        "if money >= 3000 and card == True:\n",
        "  print('taxi')\n",
        "else:\n",
        "  print('walk')"
      ],
      "execution_count": 163,
      "outputs": [
        {
          "output_type": "stream",
          "text": [
            "walk\n"
          ],
          "name": "stdout"
        }
      ]
    },
    {
      "cell_type": "code",
      "metadata": {
        "colab": {
          "base_uri": "https://localhost:8080/"
        },
        "id": "7SrYb2vXk5b8",
        "outputId": "88958443-6799-4259-f704-b21106aad50c"
      },
      "source": [
        "pocket = ['paper', 'cellphone', 'money']\n",
        "\n",
        "if 'money' in pocket:\n",
        "  print('taxi')\n",
        "else:\n",
        "  print('walk')"
      ],
      "execution_count": 164,
      "outputs": [
        {
          "output_type": "stream",
          "text": [
            "taxi\n"
          ],
          "name": "stdout"
        }
      ]
    },
    {
      "cell_type": "code",
      "metadata": {
        "colab": {
          "base_uri": "https://localhost:8080/"
        },
        "id": "RoLiywe5lJVO",
        "outputId": "c3635aec-6b58-4bf0-b6de-c3458541a8f1"
      },
      "source": [
        "pocket = ['paper', 'cellphone']\n",
        "card = True\n",
        "\n",
        "if 'money' in pocket:\n",
        "  print('taxi')\n",
        "else:\n",
        "  if card == True:\n",
        "    print('taxi')\n",
        "  else:\n",
        "    print('walk')"
      ],
      "execution_count": 166,
      "outputs": [
        {
          "output_type": "stream",
          "text": [
            "taxi\n"
          ],
          "name": "stdout"
        }
      ]
    },
    {
      "cell_type": "code",
      "metadata": {
        "colab": {
          "base_uri": "https://localhost:8080/"
        },
        "id": "4HZI7-bPlONA",
        "outputId": "0e7abc65-126d-4920-9f03-abf21bad1d6c"
      },
      "source": [
        "pocket = ['paper', 'cellphone']\n",
        "card = True\n",
        "\n",
        "if 'money' not in pocket:\n",
        "  print('taxi')\n",
        "elif card == True:\n",
        "  print('taxi')\n",
        "else:\n",
        "  print('walk')"
      ],
      "execution_count": 167,
      "outputs": [
        {
          "output_type": "stream",
          "text": [
            "taxi\n"
          ],
          "name": "stdout"
        }
      ]
    },
    {
      "cell_type": "code",
      "metadata": {
        "colab": {
          "base_uri": "https://localhost:8080/",
          "height": 35
        },
        "id": "Wcv0QDwulg3B",
        "outputId": "c2abcd3c-b6a7-4867-ae3e-20401919d9c3"
      },
      "source": [
        "score = 60\n",
        "\n",
        "message = ''\n",
        "\n",
        "if score >= 60:\n",
        "  message = 'success'\n",
        "\n",
        "message"
      ],
      "execution_count": 174,
      "outputs": [
        {
          "output_type": "execute_result",
          "data": {
            "application/vnd.google.colaboratory.intrinsic+json": {
              "type": "string"
            },
            "text/plain": [
              "'success'"
            ]
          },
          "metadata": {
            "tags": []
          },
          "execution_count": 174
        }
      ]
    },
    {
      "cell_type": "code",
      "metadata": {
        "colab": {
          "base_uri": "https://localhost:8080/",
          "height": 35
        },
        "id": "KqeuXlzYl7mM",
        "outputId": "0ffe6963-af4a-4a3e-a3c1-c1ab8ac8044f"
      },
      "source": [
        "score = 40\n",
        "\n",
        "message = 'success' if score >= 60 else 'failure'\n",
        "message"
      ],
      "execution_count": 172,
      "outputs": [
        {
          "output_type": "execute_result",
          "data": {
            "application/vnd.google.colaboratory.intrinsic+json": {
              "type": "string"
            },
            "text/plain": [
              "'failure'"
            ]
          },
          "metadata": {
            "tags": []
          },
          "execution_count": 172
        }
      ]
    },
    {
      "cell_type": "code",
      "metadata": {
        "colab": {
          "base_uri": "https://localhost:8080/"
        },
        "id": "zEkHNlMRmDTz",
        "outputId": "35d67b87-981d-41e6-c597-184d754c5fcc"
      },
      "source": [
        "# 반복문\n",
        "\n",
        "# while : 조건이 맞으면 무한반복 // 내가 몇번 돌려야할지 잘 모를때\n",
        "# for : 순서가 있는 유한반복 // 알 때\n",
        "\n",
        "# while 조건:\n",
        "\n",
        "hit = 0\n",
        "while hit < 10:\n",
        "  hit = hit + 1\n",
        "  print(f'나무를 {hit}번 찍었습니다.')\n",
        "  if hit == 10:\n",
        "    print('나무가 쓰러졌습니다.')"
      ],
      "execution_count": 176,
      "outputs": [
        {
          "output_type": "stream",
          "text": [
            "나무를 1번 찍었습니다.\n",
            "나무를 2번 찍었습니다.\n",
            "나무를 3번 찍었습니다.\n",
            "나무를 4번 찍었습니다.\n",
            "나무를 5번 찍었습니다.\n",
            "나무를 6번 찍었습니다.\n",
            "나무를 7번 찍었습니다.\n",
            "나무를 8번 찍었습니다.\n",
            "나무를 9번 찍었습니다.\n",
            "나무를 10번 찍었습니다.\n",
            "나무가 쓰러졌습니다.\n"
          ],
          "name": "stdout"
        }
      ]
    },
    {
      "cell_type": "code",
      "metadata": {
        "colab": {
          "base_uri": "https://localhost:8080/"
        },
        "id": "pjcEspoInpyj",
        "outputId": "bbf82dca-8d0b-42d3-8380-a1772335456a"
      },
      "source": [
        "coffee = 10\n",
        "\n",
        "while True:\n",
        "  coffee = coffee - 1\n",
        "  print(f'커피를 한잔팔고, {coffee}잔 남았습니다.')\n",
        "  if coffee == 0:\n",
        "    print('커피를 모두 팔았습니다.')\n",
        "    break # 반복문을 돌리다가 break를 만나면, 반복문을 강제로 나갑니다."
      ],
      "execution_count": 178,
      "outputs": [
        {
          "output_type": "stream",
          "text": [
            "커피를 한잔팔고, 9잔 남았습니다.\n",
            "커피를 한잔팔고, 8잔 남았습니다.\n",
            "커피를 한잔팔고, 7잔 남았습니다.\n",
            "커피를 한잔팔고, 6잔 남았습니다.\n",
            "커피를 한잔팔고, 5잔 남았습니다.\n",
            "커피를 한잔팔고, 4잔 남았습니다.\n",
            "커피를 한잔팔고, 3잔 남았습니다.\n",
            "커피를 한잔팔고, 2잔 남았습니다.\n",
            "커피를 한잔팔고, 1잔 남았습니다.\n",
            "커피를 한잔팔고, 0잔 남았습니다.\n",
            "커피를 모두 팔았습니다.\n"
          ],
          "name": "stdout"
        }
      ]
    },
    {
      "cell_type": "code",
      "metadata": {
        "colab": {
          "base_uri": "https://localhost:8080/"
        },
        "id": "ipriOwuhoZPw",
        "outputId": "680d4d5d-dc45-4a83-9d4a-04e3a330d4a0"
      },
      "source": [
        "a = 0\n",
        "\n",
        "while a < 10: # 여기로 이동합니다.\n",
        "  # a = a + 1\n",
        "  a += 1\n",
        "  if a % 2 == 0: # 짝수일때!\n",
        "    continue # 반복문을 돌리다가 얘를 만나면 \n",
        "  print(a)"
      ],
      "execution_count": 179,
      "outputs": [
        {
          "output_type": "stream",
          "text": [
            "1\n",
            "3\n",
            "5\n",
            "7\n",
            "9\n"
          ],
          "name": "stdout"
        }
      ]
    },
    {
      "cell_type": "code",
      "metadata": {
        "colab": {
          "base_uri": "https://localhost:8080/"
        },
        "id": "s2X0IpncpRQU",
        "outputId": "25436806-afb9-49e1-9590-b423e3fb94a8"
      },
      "source": [
        "# while 문을 사용해서 1~1000까지 3의 배수의 합을 구해보세요. 정답 : 166833\n",
        "\n",
        "a = 0\n",
        "b = 0\n",
        "while a < 1000:\n",
        "  a += 1\n",
        "  if a % 3 == 0:\n",
        "    b += a\n",
        "b"
      ],
      "execution_count": 181,
      "outputs": [
        {
          "output_type": "execute_result",
          "data": {
            "text/plain": [
              "166833"
            ]
          },
          "metadata": {
            "tags": []
          },
          "execution_count": 181
        }
      ]
    },
    {
      "cell_type": "code",
      "metadata": {
        "colab": {
          "base_uri": "https://localhost:8080/"
        },
        "id": "5ZvJzWPT9Dt-",
        "outputId": "b1097918-77b4-44a0-fa0a-4617c1e47f91"
      },
      "source": [
        "# for : 순서가 있는 유한반복\n",
        "\n",
        "box = ['one', 'two', 'three']\n",
        "\n",
        "for i in box: # box 변수 안에 있는 것을 순서대로 i에 넣어라\n",
        "    print(i)"
      ],
      "execution_count": 182,
      "outputs": [
        {
          "output_type": "stream",
          "text": [
            "one\n",
            "two\n",
            "three\n"
          ],
          "name": "stdout"
        }
      ]
    },
    {
      "cell_type": "code",
      "metadata": {
        "colab": {
          "base_uri": "https://localhost:8080/"
        },
        "id": "xdH_s3LS9nBo",
        "outputId": "2b9a7d21-4c13-44a0-831c-3511f42af04c"
      },
      "source": [
        "a = [(1,2), (3,4), (5,6)]\n",
        "\n",
        "for i,j in a:\n",
        "  print(i+j)"
      ],
      "execution_count": 186,
      "outputs": [
        {
          "output_type": "stream",
          "text": [
            "3\n",
            "7\n",
            "11\n"
          ],
          "name": "stdout"
        }
      ]
    },
    {
      "cell_type": "code",
      "metadata": {
        "colab": {
          "base_uri": "https://localhost:8080/"
        },
        "id": "FmHkwzlg9xZV",
        "outputId": "3319a8d9-626a-4c28-b39f-c49b6fde04ca"
      },
      "source": [
        "students = [90, 25, 85, 45, 100]\n",
        "num = 0\n",
        "\n",
        "for i in students:\n",
        "  num += 1\n",
        "  if i > 60:\n",
        "    print(f'{num}번 학생 합격 -- {i}점')"
      ],
      "execution_count": 187,
      "outputs": [
        {
          "output_type": "stream",
          "text": [
            "1번 학생 합격 -- 90점\n",
            "3번 학생 합격 -- 85점\n",
            "5번 학생 합격 -- 100점\n"
          ],
          "name": "stdout"
        }
      ]
    },
    {
      "cell_type": "code",
      "metadata": {
        "colab": {
          "base_uri": "https://localhost:8080/"
        },
        "id": "wIHWcsQg-ZlJ",
        "outputId": "a6a3cd9a-d277-419d-d811-45f71d4c93ea"
      },
      "source": [
        "students = [90, 25, 85, 45, 100]\n",
        "num = 0\n",
        "\n",
        "for i in students:\n",
        "  num += 1\n",
        "  if i < 60:\n",
        "    continue\n",
        "  print(f'{num}번 학생 합격 -- {i}점')"
      ],
      "execution_count": 188,
      "outputs": [
        {
          "output_type": "stream",
          "text": [
            "1번 학생 합격 -- 90점\n",
            "3번 학생 합격 -- 85점\n",
            "5번 학생 합격 -- 100점\n"
          ],
          "name": "stdout"
        }
      ]
    },
    {
      "cell_type": "code",
      "metadata": {
        "colab": {
          "base_uri": "https://localhost:8080/"
        },
        "id": "9wfjNn-M-lUd",
        "outputId": "929af024-d811-4ea5-d149-f0eddb56379f"
      },
      "source": [
        "# 1~100까지 더하면?\n",
        "\n",
        "a = 0\n",
        "for i in range(1, 101):\n",
        "  a += i\n",
        "  print(a)"
      ],
      "execution_count": 190,
      "outputs": [
        {
          "output_type": "stream",
          "text": [
            "1\n",
            "3\n",
            "6\n",
            "10\n",
            "15\n",
            "21\n",
            "28\n",
            "36\n",
            "45\n",
            "55\n",
            "66\n",
            "78\n",
            "91\n",
            "105\n",
            "120\n",
            "136\n",
            "153\n",
            "171\n",
            "190\n",
            "210\n",
            "231\n",
            "253\n",
            "276\n",
            "300\n",
            "325\n",
            "351\n",
            "378\n",
            "406\n",
            "435\n",
            "465\n",
            "496\n",
            "528\n",
            "561\n",
            "595\n",
            "630\n",
            "666\n",
            "703\n",
            "741\n",
            "780\n",
            "820\n",
            "861\n",
            "903\n",
            "946\n",
            "990\n",
            "1035\n",
            "1081\n",
            "1128\n",
            "1176\n",
            "1225\n",
            "1275\n",
            "1326\n",
            "1378\n",
            "1431\n",
            "1485\n",
            "1540\n",
            "1596\n",
            "1653\n",
            "1711\n",
            "1770\n",
            "1830\n",
            "1891\n",
            "1953\n",
            "2016\n",
            "2080\n",
            "2145\n",
            "2211\n",
            "2278\n",
            "2346\n",
            "2415\n",
            "2485\n",
            "2556\n",
            "2628\n",
            "2701\n",
            "2775\n",
            "2850\n",
            "2926\n",
            "3003\n",
            "3081\n",
            "3160\n",
            "3240\n",
            "3321\n",
            "3403\n",
            "3486\n",
            "3570\n",
            "3655\n",
            "3741\n",
            "3828\n",
            "3916\n",
            "4005\n",
            "4095\n",
            "4186\n",
            "4278\n",
            "4371\n",
            "4465\n",
            "4560\n",
            "4656\n",
            "4753\n",
            "4851\n",
            "4950\n",
            "5050\n"
          ],
          "name": "stdout"
        }
      ]
    },
    {
      "cell_type": "code",
      "metadata": {
        "colab": {
          "base_uri": "https://localhost:8080/"
        },
        "id": "0bbWIDF2-3Ql",
        "outputId": "a3f4a71a-857e-4529-9ee2-68c2095dcc37"
      },
      "source": [
        "for i in range(1, 101, 3):\n",
        "  print(i)"
      ],
      "execution_count": 192,
      "outputs": [
        {
          "output_type": "stream",
          "text": [
            "1\n",
            "4\n",
            "7\n",
            "10\n",
            "13\n",
            "16\n",
            "19\n",
            "22\n",
            "25\n",
            "28\n",
            "31\n",
            "34\n",
            "37\n",
            "40\n",
            "43\n",
            "46\n",
            "49\n",
            "52\n",
            "55\n",
            "58\n",
            "61\n",
            "64\n",
            "67\n",
            "70\n",
            "73\n",
            "76\n",
            "79\n",
            "82\n",
            "85\n",
            "88\n",
            "91\n",
            "94\n",
            "97\n",
            "100\n"
          ],
          "name": "stdout"
        }
      ]
    },
    {
      "cell_type": "code",
      "metadata": {
        "colab": {
          "base_uri": "https://localhost:8080/"
        },
        "id": "uGKfJsZb_IOj",
        "outputId": "f14c45d3-268d-43f3-8996-e725f24af735"
      },
      "source": [
        "for i in range(10, 0, -1):\n",
        "  print(i)"
      ],
      "execution_count": 194,
      "outputs": [
        {
          "output_type": "stream",
          "text": [
            "10\n",
            "9\n",
            "8\n",
            "7\n",
            "6\n",
            "5\n",
            "4\n",
            "3\n",
            "2\n",
            "1\n"
          ],
          "name": "stdout"
        }
      ]
    },
    {
      "cell_type": "code",
      "metadata": {
        "colab": {
          "base_uri": "https://localhost:8080/"
        },
        "id": "vy_TGDxb_Rnb",
        "outputId": "2afb932b-ebdb-46fa-92a1-6854f8335d14"
      },
      "source": [
        "for i in range(2, 10):\n",
        "  for j in range(1, 10):\n",
        "    print(f'{i}X{j}={i*j}')\n",
        "  print()"
      ],
      "execution_count": 196,
      "outputs": [
        {
          "output_type": "stream",
          "text": [
            "2X1=2\n",
            "2X2=4\n",
            "2X3=6\n",
            "2X4=8\n",
            "2X5=10\n",
            "2X6=12\n",
            "2X7=14\n",
            "2X8=16\n",
            "2X9=18\n",
            "\n",
            "3X1=3\n",
            "3X2=6\n",
            "3X3=9\n",
            "3X4=12\n",
            "3X5=15\n",
            "3X6=18\n",
            "3X7=21\n",
            "3X8=24\n",
            "3X9=27\n",
            "\n",
            "4X1=4\n",
            "4X2=8\n",
            "4X3=12\n",
            "4X4=16\n",
            "4X5=20\n",
            "4X6=24\n",
            "4X7=28\n",
            "4X8=32\n",
            "4X9=36\n",
            "\n",
            "5X1=5\n",
            "5X2=10\n",
            "5X3=15\n",
            "5X4=20\n",
            "5X5=25\n",
            "5X6=30\n",
            "5X7=35\n",
            "5X8=40\n",
            "5X9=45\n",
            "\n",
            "6X1=6\n",
            "6X2=12\n",
            "6X3=18\n",
            "6X4=24\n",
            "6X5=30\n",
            "6X6=36\n",
            "6X7=42\n",
            "6X8=48\n",
            "6X9=54\n",
            "\n",
            "7X1=7\n",
            "7X2=14\n",
            "7X3=21\n",
            "7X4=28\n",
            "7X5=35\n",
            "7X6=42\n",
            "7X7=49\n",
            "7X8=56\n",
            "7X9=63\n",
            "\n",
            "8X1=8\n",
            "8X2=16\n",
            "8X3=24\n",
            "8X4=32\n",
            "8X5=40\n",
            "8X6=48\n",
            "8X7=56\n",
            "8X8=64\n",
            "8X9=72\n",
            "\n",
            "9X1=9\n",
            "9X2=18\n",
            "9X3=27\n",
            "9X4=36\n",
            "9X5=45\n",
            "9X6=54\n",
            "9X7=63\n",
            "9X8=72\n",
            "9X9=81\n",
            "\n"
          ],
          "name": "stdout"
        }
      ]
    },
    {
      "cell_type": "code",
      "metadata": {
        "colab": {
          "base_uri": "https://localhost:8080/"
        },
        "id": "H-tE9W17_qR0",
        "outputId": "291ad825-0a85-45aa-b334-68dc31882e2a"
      },
      "source": [
        "for i in range(5, 0, -1):\n",
        "  print('*' * i)"
      ],
      "execution_count": 197,
      "outputs": [
        {
          "output_type": "stream",
          "text": [
            "*****\n",
            "****\n",
            "***\n",
            "**\n",
            "*\n"
          ],
          "name": "stdout"
        }
      ]
    },
    {
      "cell_type": "code",
      "metadata": {
        "colab": {
          "base_uri": "https://localhost:8080/"
        },
        "id": "6mSHspPzA38G",
        "outputId": "b479e9a5-04c5-4e18-994e-ecc4d70d00b5"
      },
      "source": [
        "box = [] # [1,2,3,4,5,6,7,8,9,10]\n",
        "\n",
        "for i in range(1, 11):\n",
        "  box.append(i)\n",
        "\n",
        "box"
      ],
      "execution_count": 198,
      "outputs": [
        {
          "output_type": "execute_result",
          "data": {
            "text/plain": [
              "[1, 2, 3, 4, 5, 6, 7, 8, 9, 10]"
            ]
          },
          "metadata": {
            "tags": []
          },
          "execution_count": 198
        }
      ]
    },
    {
      "cell_type": "code",
      "metadata": {
        "colab": {
          "base_uri": "https://localhost:8080/"
        },
        "id": "eVnk9RRCCEkh",
        "outputId": "d2842667-bc3c-48c0-9535-28b2255d2572"
      },
      "source": [
        "box = [i*j for i in range(1, 11) for j in range(1, 11)]\n",
        "box"
      ],
      "execution_count": 203,
      "outputs": [
        {
          "output_type": "execute_result",
          "data": {
            "text/plain": [
              "[1,\n",
              " 2,\n",
              " 3,\n",
              " 4,\n",
              " 5,\n",
              " 6,\n",
              " 7,\n",
              " 8,\n",
              " 9,\n",
              " 10,\n",
              " 2,\n",
              " 4,\n",
              " 6,\n",
              " 8,\n",
              " 10,\n",
              " 12,\n",
              " 14,\n",
              " 16,\n",
              " 18,\n",
              " 20,\n",
              " 3,\n",
              " 6,\n",
              " 9,\n",
              " 12,\n",
              " 15,\n",
              " 18,\n",
              " 21,\n",
              " 24,\n",
              " 27,\n",
              " 30,\n",
              " 4,\n",
              " 8,\n",
              " 12,\n",
              " 16,\n",
              " 20,\n",
              " 24,\n",
              " 28,\n",
              " 32,\n",
              " 36,\n",
              " 40,\n",
              " 5,\n",
              " 10,\n",
              " 15,\n",
              " 20,\n",
              " 25,\n",
              " 30,\n",
              " 35,\n",
              " 40,\n",
              " 45,\n",
              " 50,\n",
              " 6,\n",
              " 12,\n",
              " 18,\n",
              " 24,\n",
              " 30,\n",
              " 36,\n",
              " 42,\n",
              " 48,\n",
              " 54,\n",
              " 60,\n",
              " 7,\n",
              " 14,\n",
              " 21,\n",
              " 28,\n",
              " 35,\n",
              " 42,\n",
              " 49,\n",
              " 56,\n",
              " 63,\n",
              " 70,\n",
              " 8,\n",
              " 16,\n",
              " 24,\n",
              " 32,\n",
              " 40,\n",
              " 48,\n",
              " 56,\n",
              " 64,\n",
              " 72,\n",
              " 80,\n",
              " 9,\n",
              " 18,\n",
              " 27,\n",
              " 36,\n",
              " 45,\n",
              " 54,\n",
              " 63,\n",
              " 72,\n",
              " 81,\n",
              " 90,\n",
              " 10,\n",
              " 20,\n",
              " 30,\n",
              " 40,\n",
              " 50,\n",
              " 60,\n",
              " 70,\n",
              " 80,\n",
              " 90,\n",
              " 100]"
            ]
          },
          "metadata": {
            "tags": []
          },
          "execution_count": 203
        }
      ]
    },
    {
      "cell_type": "code",
      "metadata": {
        "colab": {
          "base_uri": "https://localhost:8080/"
        },
        "id": "SlDc-114CNZG",
        "outputId": "e5eb264d-32f9-4512-f685-b998e1c30106"
      },
      "source": [
        "box = [i for i in range(1, 11) if i % 2 == 0]\n",
        "box"
      ],
      "execution_count": 204,
      "outputs": [
        {
          "output_type": "execute_result",
          "data": {
            "text/plain": [
              "[2, 4, 6, 8, 10]"
            ]
          },
          "metadata": {
            "tags": []
          },
          "execution_count": 204
        }
      ]
    },
    {
      "cell_type": "code",
      "metadata": {
        "id": "xw6vlM80CqT7"
      },
      "source": [
        "# 함수/클래스\n",
        "# 함수 : 미리 만들어놓고 필요할 때 가져다 쓰는 것\n",
        "# def 함수이름(함수재료):\n",
        "\n",
        "def add(a, b):\n",
        "  return a + b"
      ],
      "execution_count": 205,
      "outputs": []
    },
    {
      "cell_type": "code",
      "metadata": {
        "colab": {
          "base_uri": "https://localhost:8080/"
        },
        "id": "EvTS3c6gDfe9",
        "outputId": "035b6ef7-81f5-40bb-e289-59379a599172"
      },
      "source": [
        "z = add(3, 4)\n",
        "z"
      ],
      "execution_count": 206,
      "outputs": [
        {
          "output_type": "execute_result",
          "data": {
            "text/plain": [
              "7"
            ]
          },
          "metadata": {
            "tags": []
          },
          "execution_count": 206
        }
      ]
    },
    {
      "cell_type": "code",
      "metadata": {
        "colab": {
          "base_uri": "https://localhost:8080/",
          "height": 35
        },
        "id": "nBXnlWxFDlgc",
        "outputId": "c8602d89-23cd-4b63-ce2f-3cab81889c35"
      },
      "source": [
        "z = add('python', ' is too fun')\n",
        "z"
      ],
      "execution_count": 207,
      "outputs": [
        {
          "output_type": "execute_result",
          "data": {
            "application/vnd.google.colaboratory.intrinsic+json": {
              "type": "string"
            },
            "text/plain": [
              "'python is too fun'"
            ]
          },
          "metadata": {
            "tags": []
          },
          "execution_count": 207
        }
      ]
    },
    {
      "cell_type": "code",
      "metadata": {
        "id": "097zf5F1DoMk"
      },
      "source": [
        "# 피타고라스(밑변의 길이, 높이의 길이) -> 빗변의 길이 리턴해주는 함수를 만들어보세요.\n",
        "\n",
        "def test(a, b):\n",
        "  return (a*a + b*b) ** (1/2)"
      ],
      "execution_count": 212,
      "outputs": []
    },
    {
      "cell_type": "code",
      "metadata": {
        "colab": {
          "base_uri": "https://localhost:8080/"
        },
        "id": "uJc1g0lAEQSg",
        "outputId": "129d7292-31b5-4539-f660-653caf487269"
      },
      "source": [
        "test(3,4)"
      ],
      "execution_count": 213,
      "outputs": [
        {
          "output_type": "execute_result",
          "data": {
            "text/plain": [
              "5.0"
            ]
          },
          "metadata": {
            "tags": []
          },
          "execution_count": 213
        }
      ]
    },
    {
      "cell_type": "code",
      "metadata": {
        "id": "59OF7RfVFtcr"
      },
      "source": [
        "def say():\n",
        "  return 'hello'"
      ],
      "execution_count": 214,
      "outputs": []
    },
    {
      "cell_type": "code",
      "metadata": {
        "colab": {
          "base_uri": "https://localhost:8080/",
          "height": 35
        },
        "id": "PQNyaZd0F4Vi",
        "outputId": "aaad728d-5a33-451c-cecd-672584a046d8"
      },
      "source": [
        "a = say()\n",
        "a"
      ],
      "execution_count": 215,
      "outputs": [
        {
          "output_type": "execute_result",
          "data": {
            "application/vnd.google.colaboratory.intrinsic+json": {
              "type": "string"
            },
            "text/plain": [
              "'hello'"
            ]
          },
          "metadata": {
            "tags": []
          },
          "execution_count": 215
        }
      ]
    },
    {
      "cell_type": "code",
      "metadata": {
        "id": "Ma1ViJtvF7F4"
      },
      "source": [
        "def add(a, b):\n",
        "  print(a + b)"
      ],
      "execution_count": 216,
      "outputs": []
    },
    {
      "cell_type": "code",
      "metadata": {
        "colab": {
          "base_uri": "https://localhost:8080/"
        },
        "id": "cj-Wc6mCGBiN",
        "outputId": "e6b70b15-2031-4d7e-ef37-efde0192ad2b"
      },
      "source": [
        "z = add(3,4)"
      ],
      "execution_count": 217,
      "outputs": [
        {
          "output_type": "stream",
          "text": [
            "7\n"
          ],
          "name": "stdout"
        }
      ]
    },
    {
      "cell_type": "code",
      "metadata": {
        "colab": {
          "base_uri": "https://localhost:8080/"
        },
        "id": "vclK-SDsGFFT",
        "outputId": "ba7e60dd-7efa-4271-cc59-5c71d5ece88b"
      },
      "source": [
        "print(z)"
      ],
      "execution_count": 218,
      "outputs": [
        {
          "output_type": "stream",
          "text": [
            "None\n"
          ],
          "name": "stdout"
        }
      ]
    },
    {
      "cell_type": "code",
      "metadata": {
        "id": "t_d-3tkkGJPy"
      },
      "source": [
        "def intro(name, age, sex=True):\n",
        "  print(f'나의 이름은 {name}입니다.')\n",
        "  print(f'나의 나이는 {age}입니다.')\n",
        "  if sex == True:\n",
        "    print('나는 남자입니다.')\n",
        "  else:\n",
        "    print('나는 여자입니다.')"
      ],
      "execution_count": 219,
      "outputs": []
    },
    {
      "cell_type": "code",
      "metadata": {
        "colab": {
          "base_uri": "https://localhost:8080/"
        },
        "id": "SxgOHipYGv68",
        "outputId": "7d155ffd-ca20-48c2-e555-0461d5075548"
      },
      "source": [
        "intro('곽경일', 29)"
      ],
      "execution_count": 220,
      "outputs": [
        {
          "output_type": "stream",
          "text": [
            "나의 이름은 곽경일입니다.\n",
            "나의 나이는 29입니다.\n",
            "나는 남자입니다.\n"
          ],
          "name": "stdout"
        }
      ]
    },
    {
      "cell_type": "code",
      "metadata": {
        "colab": {
          "base_uri": "https://localhost:8080/"
        },
        "id": "6l_dwMSQG0h8",
        "outputId": "1997b7b6-e0d9-4e2a-ecdd-ac581b3b232b"
      },
      "source": [
        "intro('장원영', 17, 5)"
      ],
      "execution_count": 221,
      "outputs": [
        {
          "output_type": "stream",
          "text": [
            "나의 이름은 장원영입니다.\n",
            "나의 나이는 17입니다.\n",
            "나는 여자입니다.\n"
          ],
          "name": "stdout"
        }
      ]
    },
    {
      "cell_type": "code",
      "metadata": {
        "colab": {
          "base_uri": "https://localhost:8080/"
        },
        "id": "MWM1BM47G-bC",
        "outputId": "7475dc45-0525-4b61-9400-2396ad0de031"
      },
      "source": [
        "# 함수 안에서의 변수는 함수안에서 끝나요.\n",
        "def test():\n",
        "  global a\n",
        "  a = 5 # 전역변수\n",
        "\n",
        "a = 0 # 전역변수\n",
        "test()\n",
        "a"
      ],
      "execution_count": 223,
      "outputs": [
        {
          "output_type": "execute_result",
          "data": {
            "text/plain": [
              "5"
            ]
          },
          "metadata": {
            "tags": []
          },
          "execution_count": 223
        }
      ]
    },
    {
      "cell_type": "code",
      "metadata": {
        "id": "qZoCRWF7H2TV"
      },
      "source": [
        "# 5! = 5 * 4 * 3 * 2 * 1\n",
        "\n",
        "def fac(n):\n",
        "  a = 1\n",
        "  for i in range(1, n+1):\n",
        "    a *= i\n",
        "  return a"
      ],
      "execution_count": 224,
      "outputs": []
    },
    {
      "cell_type": "code",
      "metadata": {
        "colab": {
          "base_uri": "https://localhost:8080/"
        },
        "id": "000cu1c0KBj1",
        "outputId": "3b5cfa62-a8d2-45db-9459-e38fdbbc3fb6"
      },
      "source": [
        "fac(10)"
      ],
      "execution_count": 226,
      "outputs": [
        {
          "output_type": "execute_result",
          "data": {
            "text/plain": [
              "3628800"
            ]
          },
          "metadata": {
            "tags": []
          },
          "execution_count": 226
        }
      ]
    },
    {
      "cell_type": "code",
      "metadata": {
        "id": "YV_JKQO3KCF-"
      },
      "source": [
        "# 재귀함수 : 함수 안에서 같은 함수 불러오기\n",
        "\n",
        "def fac(n):\n",
        "  if n == 1:\n",
        "    return 1\n",
        "  else:\n",
        "    return n * fac(n-1)"
      ],
      "execution_count": 227,
      "outputs": []
    },
    {
      "cell_type": "code",
      "metadata": {
        "colab": {
          "base_uri": "https://localhost:8080/"
        },
        "id": "p_odK1wLOJrN",
        "outputId": "f20401cb-5f2f-4600-d6a0-0f500993ca6d"
      },
      "source": [
        "fac(5)"
      ],
      "execution_count": 228,
      "outputs": [
        {
          "output_type": "execute_result",
          "data": {
            "text/plain": [
              "120"
            ]
          },
          "metadata": {
            "tags": []
          },
          "execution_count": 228
        }
      ]
    },
    {
      "cell_type": "code",
      "metadata": {
        "id": "8yFxNNaoOh4y"
      },
      "source": [
        "# 피보나치 수열 : 앞에 있는것 2개 더하는 수열\n",
        "# 1 1 2 3 5 8 13 21 ...\n",
        "\n",
        "count = 0\n",
        "\n",
        "dic = {1:1, \n",
        "       2:1}\n",
        "\n",
        "def pivo(n):\n",
        "\n",
        "  global count\n",
        "  count += 1\n",
        "\n",
        "  if n in dic:\n",
        "    return dic[n]\n",
        "  else:\n",
        "    dic[n] = pivo(n-1) + pivo(n-2)\n",
        "    return dic[n]"
      ],
      "execution_count": 235,
      "outputs": []
    },
    {
      "cell_type": "code",
      "metadata": {
        "colab": {
          "base_uri": "https://localhost:8080/"
        },
        "id": "bxO81_OtRNf2",
        "outputId": "637e6f8f-5f2f-415a-a656-486737fffb4d"
      },
      "source": [
        "pivo(40)\n",
        "count"
      ],
      "execution_count": 236,
      "outputs": [
        {
          "output_type": "execute_result",
          "data": {
            "text/plain": [
              "77"
            ]
          },
          "metadata": {
            "tags": []
          },
          "execution_count": 236
        }
      ]
    },
    {
      "cell_type": "code",
      "metadata": {
        "colab": {
          "base_uri": "https://localhost:8080/"
        },
        "id": "Nntp7emrRPws",
        "outputId": "2c3f5d3c-df63-40b3-8394-4ec66012fef3"
      },
      "source": [
        "dic"
      ],
      "execution_count": 237,
      "outputs": [
        {
          "output_type": "execute_result",
          "data": {
            "text/plain": [
              "{1: 1,\n",
              " 2: 1,\n",
              " 3: 2,\n",
              " 4: 3,\n",
              " 5: 5,\n",
              " 6: 8,\n",
              " 7: 13,\n",
              " 8: 21,\n",
              " 9: 34,\n",
              " 10: 55,\n",
              " 11: 89,\n",
              " 12: 144,\n",
              " 13: 233,\n",
              " 14: 377,\n",
              " 15: 610,\n",
              " 16: 987,\n",
              " 17: 1597,\n",
              " 18: 2584,\n",
              " 19: 4181,\n",
              " 20: 6765,\n",
              " 21: 10946,\n",
              " 22: 17711,\n",
              " 23: 28657,\n",
              " 24: 46368,\n",
              " 25: 75025,\n",
              " 26: 121393,\n",
              " 27: 196418,\n",
              " 28: 317811,\n",
              " 29: 514229,\n",
              " 30: 832040,\n",
              " 31: 1346269,\n",
              " 32: 2178309,\n",
              " 33: 3524578,\n",
              " 34: 5702887,\n",
              " 35: 9227465,\n",
              " 36: 14930352,\n",
              " 37: 24157817,\n",
              " 38: 39088169,\n",
              " 39: 63245986,\n",
              " 40: 102334155}"
            ]
          },
          "metadata": {
            "tags": []
          },
          "execution_count": 237
        }
      ]
    },
    {
      "cell_type": "code",
      "metadata": {
        "colab": {
          "base_uri": "https://localhost:8080/"
        },
        "id": "gdRoRJt8Tit_",
        "outputId": "3287cb30-5ebf-4c81-dbdd-b432c419fe41"
      },
      "source": [
        "a = int(input('값을 입력해주세요 : ')) # int : integer\n",
        "a"
      ],
      "execution_count": 241,
      "outputs": [
        {
          "output_type": "stream",
          "text": [
            "값을 입력해주세요 : 8\n"
          ],
          "name": "stdout"
        },
        {
          "output_type": "execute_result",
          "data": {
            "text/plain": [
              "8"
            ]
          },
          "metadata": {
            "tags": []
          },
          "execution_count": 241
        }
      ]
    },
    {
      "cell_type": "code",
      "metadata": {
        "id": "ohZcMcm_TxsK"
      },
      "source": [
        "f = open('test.txt', 'w')\n",
        "\n",
        "for i in range(1, 11):\n",
        "  f.write(f'{i}번째 줄입니다.\\n')\n",
        "\n",
        "f.close()"
      ],
      "execution_count": 242,
      "outputs": []
    },
    {
      "cell_type": "code",
      "metadata": {
        "id": "Y4nNJeyYUcN5"
      },
      "source": [
        "f = open('test.txt', 'a') # attach\n",
        "\n",
        "for i in range(1, 11):\n",
        "  f.write(f'{i}번째 줄입니다.\\n')\n",
        "\n",
        "f.close()"
      ],
      "execution_count": 243,
      "outputs": []
    },
    {
      "cell_type": "code",
      "metadata": {
        "colab": {
          "base_uri": "https://localhost:8080/"
        },
        "id": "it5D9ckRU3_R",
        "outputId": "85e787bb-6edb-4b3f-c3be-ca8ab7304379"
      },
      "source": [
        "f = open('test.txt', 'r')\n",
        "\n",
        "text = f.readlines()\n",
        "\n",
        "f.close()\n",
        "\n",
        "text"
      ],
      "execution_count": 246,
      "outputs": [
        {
          "output_type": "execute_result",
          "data": {
            "text/plain": [
              "['1번째 줄입니다.\\n',\n",
              " '2번째 줄입니다.\\n',\n",
              " '3번째 줄입니다.\\n',\n",
              " '4번째 줄입니다.\\n',\n",
              " '5번째 줄입니다.\\n',\n",
              " '6번째 줄입니다.\\n',\n",
              " '7번째 줄입니다.\\n',\n",
              " '8번째 줄입니다.\\n',\n",
              " '9번째 줄입니다.\\n',\n",
              " '10번째 줄입니다.\\n',\n",
              " '1번째 줄입니다.\\n',\n",
              " '2번째 줄입니다.\\n',\n",
              " '3번째 줄입니다.\\n',\n",
              " '4번째 줄입니다.\\n',\n",
              " '5번째 줄입니다.\\n',\n",
              " '6번째 줄입니다.\\n',\n",
              " '7번째 줄입니다.\\n',\n",
              " '8번째 줄입니다.\\n',\n",
              " '9번째 줄입니다.\\n',\n",
              " '10번째 줄입니다.\\n']"
            ]
          },
          "metadata": {
            "tags": []
          },
          "execution_count": 246
        }
      ]
    },
    {
      "cell_type": "code",
      "metadata": {
        "colab": {
          "base_uri": "https://localhost:8080/"
        },
        "id": "XKgDNE1pVQcS",
        "outputId": "e4fd2d49-63e5-40bf-9c14-8a4de776b25a"
      },
      "source": [
        "text.split('\\n')"
      ],
      "execution_count": 245,
      "outputs": [
        {
          "output_type": "execute_result",
          "data": {
            "text/plain": [
              "['1번째 줄입니다.',\n",
              " '2번째 줄입니다.',\n",
              " '3번째 줄입니다.',\n",
              " '4번째 줄입니다.',\n",
              " '5번째 줄입니다.',\n",
              " '6번째 줄입니다.',\n",
              " '7번째 줄입니다.',\n",
              " '8번째 줄입니다.',\n",
              " '9번째 줄입니다.',\n",
              " '10번째 줄입니다.',\n",
              " '1번째 줄입니다.',\n",
              " '2번째 줄입니다.',\n",
              " '3번째 줄입니다.',\n",
              " '4번째 줄입니다.',\n",
              " '5번째 줄입니다.',\n",
              " '6번째 줄입니다.',\n",
              " '7번째 줄입니다.',\n",
              " '8번째 줄입니다.',\n",
              " '9번째 줄입니다.',\n",
              " '10번째 줄입니다.',\n",
              " '']"
            ]
          },
          "metadata": {
            "tags": []
          },
          "execution_count": 245
        }
      ]
    },
    {
      "cell_type": "code",
      "metadata": {
        "id": "1_FvOlyFVUJq"
      },
      "source": [
        "# 클래스 - 붕어빵 틀\n",
        "# class 클래스이름:\n",
        "\n",
        "class Bank:\n",
        "\n",
        "  def __init__(self): # 붕어빵 틀을 딱 찍어낼 때, 자동으로 한번 실행되는 함수\n",
        "    self.money = 0\n",
        "\n",
        "  def deposit(self, a):\n",
        "    self.money += a"
      ],
      "execution_count": 260,
      "outputs": []
    },
    {
      "cell_type": "code",
      "metadata": {
        "id": "PtOXZKBBWETB"
      },
      "source": [
        "person1 = Bank() # person1은 Bank클래스에서 제공하는 모든 함수들을 이용할 수 있다."
      ],
      "execution_count": 249,
      "outputs": []
    },
    {
      "cell_type": "code",
      "metadata": {
        "id": "DmFP1sdWXV2E"
      },
      "source": [
        "person1.deposit(50000)"
      ],
      "execution_count": 250,
      "outputs": []
    },
    {
      "cell_type": "code",
      "metadata": {
        "colab": {
          "base_uri": "https://localhost:8080/"
        },
        "id": "cv8RivIwXenF",
        "outputId": "ea87d86e-42ff-4e38-e714-38ab38d3fdc6"
      },
      "source": [
        "person1.money"
      ],
      "execution_count": 251,
      "outputs": [
        {
          "output_type": "execute_result",
          "data": {
            "text/plain": [
              "50000"
            ]
          },
          "metadata": {
            "tags": []
          },
          "execution_count": 251
        }
      ]
    },
    {
      "cell_type": "code",
      "metadata": {
        "id": "yCWgXvKJXf9-"
      },
      "source": [
        "person2 = Bank()\n",
        "person2.deposit(30000)"
      ],
      "execution_count": 252,
      "outputs": []
    },
    {
      "cell_type": "code",
      "metadata": {
        "colab": {
          "base_uri": "https://localhost:8080/"
        },
        "id": "sOB6zLxsXs6y",
        "outputId": "c428ebc1-c9e4-44cc-85b3-ba0a9c3bbb05"
      },
      "source": [
        "person2.money"
      ],
      "execution_count": 253,
      "outputs": [
        {
          "output_type": "execute_result",
          "data": {
            "text/plain": [
              "30000"
            ]
          },
          "metadata": {
            "tags": []
          },
          "execution_count": 253
        }
      ]
    },
    {
      "cell_type": "code",
      "metadata": {
        "colab": {
          "base_uri": "https://localhost:8080/"
        },
        "id": "LsZ7MjCQXt7J",
        "outputId": "acf5b4ee-ccd7-4e4b-ec53-9029efba8525"
      },
      "source": [
        "person1.money"
      ],
      "execution_count": 254,
      "outputs": [
        {
          "output_type": "execute_result",
          "data": {
            "text/plain": [
              "50000"
            ]
          },
          "metadata": {
            "tags": []
          },
          "execution_count": 254
        }
      ]
    },
    {
      "cell_type": "code",
      "metadata": {
        "id": "-MtsNejjXu_3"
      },
      "source": [
        "person3 = Bank()"
      ],
      "execution_count": 258,
      "outputs": []
    },
    {
      "cell_type": "code",
      "metadata": {
        "colab": {
          "base_uri": "https://localhost:8080/"
        },
        "id": "D38Ta6fCYIR8",
        "outputId": "627e9d66-8e6d-4d3a-95f1-77be1b3dfab9"
      },
      "source": [
        "person3.money"
      ],
      "execution_count": 259,
      "outputs": [
        {
          "output_type": "execute_result",
          "data": {
            "text/plain": [
              "0"
            ]
          },
          "metadata": {
            "tags": []
          },
          "execution_count": 259
        }
      ]
    },
    {
      "cell_type": "code",
      "metadata": {
        "id": "ed_mtkXRYJP7"
      },
      "source": [
        "class Bank2(Bank): # Bank2는 Bank에서 제공하는 모든 서비스를 상속받는다.\n",
        "  def deposit"
      ],
      "execution_count": 261,
      "outputs": []
    },
    {
      "cell_type": "code",
      "metadata": {
        "colab": {
          "base_uri": "https://localhost:8080/"
        },
        "id": "g-WeN17eZUS_",
        "outputId": "d2cbef97-9407-48dd-fafc-7adcce847843"
      },
      "source": [
        "person4 = Bank2()\n",
        "person4.money"
      ],
      "execution_count": 262,
      "outputs": [
        {
          "output_type": "execute_result",
          "data": {
            "text/plain": [
              "0"
            ]
          },
          "metadata": {
            "tags": []
          },
          "execution_count": 262
        }
      ]
    },
    {
      "cell_type": "code",
      "metadata": {
        "colab": {
          "base_uri": "https://localhost:8080/"
        },
        "id": "_nilQg6tZbb9",
        "outputId": "0cc84ed2-0378-4894-aa91-24afc69d8159"
      },
      "source": [
        "person4.deposit(100000)\n",
        "person4.money"
      ],
      "execution_count": 263,
      "outputs": [
        {
          "output_type": "execute_result",
          "data": {
            "text/plain": [
              "100000"
            ]
          },
          "metadata": {
            "tags": []
          },
          "execution_count": 263
        }
      ]
    },
    {
      "cell_type": "code",
      "metadata": {
        "id": "m81oUZNhZeCf"
      },
      "source": [
        "# deposit // Bank2에 deposit함수가 있는지 먼저 찾아요. 없다면 Bank에서 찾습니다."
      ],
      "execution_count": 264,
      "outputs": []
    },
    {
      "cell_type": "code",
      "metadata": {
        "colab": {
          "base_uri": "https://localhost:8080/"
        },
        "id": "6PZuULBOaII5",
        "outputId": "b8823037-3bd4-4a03-9aea-1ae41e23c5f2"
      },
      "source": [
        "# 예외처리 : 에러 발생을 처리하는 방법\n",
        "\n",
        "# 1. 내 잘못이 아닌 경우\n",
        "# 2. 에러를 꼭 발생시켜야 하는 경우\n",
        "\n",
        "try:\n",
        "  print('hello')\n",
        "except:\n",
        "  print('에러 발생했지만, 무시')\n",
        "  pass\n",
        "\n",
        "print('bye')"
      ],
      "execution_count": 268,
      "outputs": [
        {
          "output_type": "stream",
          "text": [
            "hello\n",
            "bye\n"
          ],
          "name": "stdout"
        }
      ]
    },
    {
      "cell_type": "code",
      "metadata": {
        "colab": {
          "base_uri": "https://localhost:8080/"
        },
        "id": "UVK6BgYvbiCw",
        "outputId": "a20e60f5-0ebb-4c11-d4d5-87bc83566abd"
      },
      "source": [
        "# 내장 함수\n",
        "\n",
        "# 절대값\n",
        "abs(-3)"
      ],
      "execution_count": 269,
      "outputs": [
        {
          "output_type": "execute_result",
          "data": {
            "text/plain": [
              "3"
            ]
          },
          "metadata": {
            "tags": []
          },
          "execution_count": 269
        }
      ]
    },
    {
      "cell_type": "code",
      "metadata": {
        "colab": {
          "base_uri": "https://localhost:8080/"
        },
        "id": "f3rCtWaIgKHQ",
        "outputId": "16ad438b-d352-449c-a756-02e9eec5817c"
      },
      "source": [
        "all([1,2,3])"
      ],
      "execution_count": 270,
      "outputs": [
        {
          "output_type": "execute_result",
          "data": {
            "text/plain": [
              "True"
            ]
          },
          "metadata": {
            "tags": []
          },
          "execution_count": 270
        }
      ]
    },
    {
      "cell_type": "code",
      "metadata": {
        "colab": {
          "base_uri": "https://localhost:8080/"
        },
        "id": "oUEPc8LpgOgb",
        "outputId": "169705d1-8d69-4378-9027-7d4c5a14e3c4"
      },
      "source": [
        "all([1,2,3,0])"
      ],
      "execution_count": 271,
      "outputs": [
        {
          "output_type": "execute_result",
          "data": {
            "text/plain": [
              "False"
            ]
          },
          "metadata": {
            "tags": []
          },
          "execution_count": 271
        }
      ]
    },
    {
      "cell_type": "code",
      "metadata": {
        "colab": {
          "base_uri": "https://localhost:8080/"
        },
        "id": "ua1kfPwogSkw",
        "outputId": "521193d8-4136-410f-f2cb-8d9170a43213"
      },
      "source": [
        "any([1,2,3])"
      ],
      "execution_count": 272,
      "outputs": [
        {
          "output_type": "execute_result",
          "data": {
            "text/plain": [
              "True"
            ]
          },
          "metadata": {
            "tags": []
          },
          "execution_count": 272
        }
      ]
    },
    {
      "cell_type": "code",
      "metadata": {
        "colab": {
          "base_uri": "https://localhost:8080/"
        },
        "id": "j4NmrHMxgfmo",
        "outputId": "719e5a40-5ac3-4d63-eceb-a49a5e0f3061"
      },
      "source": [
        "any([0,0,0])"
      ],
      "execution_count": 274,
      "outputs": [
        {
          "output_type": "execute_result",
          "data": {
            "text/plain": [
              "False"
            ]
          },
          "metadata": {
            "tags": []
          },
          "execution_count": 274
        }
      ]
    },
    {
      "cell_type": "code",
      "metadata": {
        "colab": {
          "base_uri": "https://localhost:8080/",
          "height": 35
        },
        "id": "rbDRulQ5giit",
        "outputId": "2b34cf45-b748-497e-9c86-7fb23ab5d6ad"
      },
      "source": [
        "chr(97)"
      ],
      "execution_count": 275,
      "outputs": [
        {
          "output_type": "execute_result",
          "data": {
            "application/vnd.google.colaboratory.intrinsic+json": {
              "type": "string"
            },
            "text/plain": [
              "'a'"
            ]
          },
          "metadata": {
            "tags": []
          },
          "execution_count": 275
        }
      ]
    },
    {
      "cell_type": "code",
      "metadata": {
        "colab": {
          "base_uri": "https://localhost:8080/",
          "height": 35
        },
        "id": "CkOUK-EVgrZM",
        "outputId": "e6849731-7a7a-498c-eb7b-9641b2445ef8"
      },
      "source": [
        "chr(48)"
      ],
      "execution_count": 276,
      "outputs": [
        {
          "output_type": "execute_result",
          "data": {
            "application/vnd.google.colaboratory.intrinsic+json": {
              "type": "string"
            },
            "text/plain": [
              "'0'"
            ]
          },
          "metadata": {
            "tags": []
          },
          "execution_count": 276
        }
      ]
    },
    {
      "cell_type": "code",
      "metadata": {
        "colab": {
          "base_uri": "https://localhost:8080/"
        },
        "id": "1CoKMbSJgxg7",
        "outputId": "810a0814-e546-43f2-eab5-336d736db2a7"
      },
      "source": [
        "divmod(7, 3)"
      ],
      "execution_count": 277,
      "outputs": [
        {
          "output_type": "execute_result",
          "data": {
            "text/plain": [
              "(2, 1)"
            ]
          },
          "metadata": {
            "tags": []
          },
          "execution_count": 277
        }
      ]
    },
    {
      "cell_type": "code",
      "metadata": {
        "colab": {
          "base_uri": "https://localhost:8080/"
        },
        "id": "wjV85Mwpg1tS",
        "outputId": "545eee6e-026f-4866-a2eb-9ef8fbe4b06e"
      },
      "source": [
        "box = ['one', 'two', 'three']\n",
        "\n",
        "for i, j in enumerate(box):\n",
        "  print(i, j)"
      ],
      "execution_count": 278,
      "outputs": [
        {
          "output_type": "stream",
          "text": [
            "0 one\n",
            "1 two\n",
            "2 three\n"
          ],
          "name": "stdout"
        }
      ]
    },
    {
      "cell_type": "code",
      "metadata": {
        "colab": {
          "base_uri": "https://localhost:8080/",
          "height": 35
        },
        "id": "DoXqOYtQhBvU",
        "outputId": "bfcfd4d3-49df-4f74-92fa-6154cedd13b0"
      },
      "source": [
        "'1+2'"
      ],
      "execution_count": 279,
      "outputs": [
        {
          "output_type": "execute_result",
          "data": {
            "application/vnd.google.colaboratory.intrinsic+json": {
              "type": "string"
            },
            "text/plain": [
              "'1+2'"
            ]
          },
          "metadata": {
            "tags": []
          },
          "execution_count": 279
        }
      ]
    },
    {
      "cell_type": "code",
      "metadata": {
        "colab": {
          "base_uri": "https://localhost:8080/"
        },
        "id": "H91H1RC2hPJq",
        "outputId": "48e3331d-377d-4f41-b33d-42579becd601"
      },
      "source": [
        "eval('1+2')"
      ],
      "execution_count": 280,
      "outputs": [
        {
          "output_type": "execute_result",
          "data": {
            "text/plain": [
              "3"
            ]
          },
          "metadata": {
            "tags": []
          },
          "execution_count": 280
        }
      ]
    },
    {
      "cell_type": "code",
      "metadata": {
        "colab": {
          "base_uri": "https://localhost:8080/",
          "height": 35
        },
        "id": "ZmGWCDOOhRLA",
        "outputId": "a76a8afb-0d9c-4b7a-a128-917c04580c0a"
      },
      "source": [
        "eval(\"'hi' + 'a'\")"
      ],
      "execution_count": 281,
      "outputs": [
        {
          "output_type": "execute_result",
          "data": {
            "application/vnd.google.colaboratory.intrinsic+json": {
              "type": "string"
            },
            "text/plain": [
              "'hia'"
            ]
          },
          "metadata": {
            "tags": []
          },
          "execution_count": 281
        }
      ]
    },
    {
      "cell_type": "code",
      "metadata": {
        "colab": {
          "base_uri": "https://localhost:8080/"
        },
        "id": "aRYWVAnChUzR",
        "outputId": "91b57bdc-01b4-45f3-ba00-b6c563426c8e"
      },
      "source": [
        "eval('divmod(7,3)')"
      ],
      "execution_count": 282,
      "outputs": [
        {
          "output_type": "execute_result",
          "data": {
            "text/plain": [
              "(2, 1)"
            ]
          },
          "metadata": {
            "tags": []
          },
          "execution_count": 282
        }
      ]
    },
    {
      "cell_type": "code",
      "metadata": {
        "colab": {
          "base_uri": "https://localhost:8080/"
        },
        "id": "o5LJe0PlhYc7",
        "outputId": "3f0e2c26-a2a1-48e1-eb2b-97b2d0463447"
      },
      "source": [
        "print('1+2')"
      ],
      "execution_count": 283,
      "outputs": [
        {
          "output_type": "stream",
          "text": [
            "1+2\n"
          ],
          "name": "stdout"
        }
      ]
    },
    {
      "cell_type": "code",
      "metadata": {
        "colab": {
          "base_uri": "https://localhost:8080/"
        },
        "id": "tW6yXsR0hgVs",
        "outputId": "6b01848b-5e26-4b76-b93d-5bb06244909a"
      },
      "source": [
        "eval('1+2')"
      ],
      "execution_count": 284,
      "outputs": [
        {
          "output_type": "execute_result",
          "data": {
            "text/plain": [
              "3"
            ]
          },
          "metadata": {
            "tags": []
          },
          "execution_count": 284
        }
      ]
    },
    {
      "cell_type": "code",
      "metadata": {
        "colab": {
          "base_uri": "https://localhost:8080/"
        },
        "id": "brCFMCHhhh8t",
        "outputId": "2f2d9021-63ac-4f44-e5fc-b62e79c6baf8"
      },
      "source": [
        "a = [1, -3, 2, 0, -5, 6]\n",
        "\n",
        "def test(x): # 양수만 들어있는 리스트\n",
        "  box = []\n",
        "  for i in x:\n",
        "    if i > 0:\n",
        "      box.append(i)\n",
        "  return box\n",
        "\n",
        "test(a)"
      ],
      "execution_count": 285,
      "outputs": [
        {
          "output_type": "execute_result",
          "data": {
            "text/plain": [
              "[1, 2, 6]"
            ]
          },
          "metadata": {
            "tags": []
          },
          "execution_count": 285
        }
      ]
    },
    {
      "cell_type": "code",
      "metadata": {
        "colab": {
          "base_uri": "https://localhost:8080/"
        },
        "id": "dfkaHWJPjItN",
        "outputId": "f866fa3f-f90d-4834-89a6-2e753700fd8c"
      },
      "source": [
        "a = [1, -3, 2, 0, -5, 6]\n",
        "\n",
        "def test1(x):\n",
        "  for i in x:\n",
        "    if i<=0:\n",
        "      x.remove(i)\n",
        "  return x\n",
        "\n",
        "test1(a)"
      ],
      "execution_count": 289,
      "outputs": [
        {
          "output_type": "stream",
          "text": [
            "1\n",
            "-3\n",
            "0\n",
            "6\n"
          ],
          "name": "stdout"
        },
        {
          "output_type": "execute_result",
          "data": {
            "text/plain": [
              "[1, 2, -5, 6]"
            ]
          },
          "metadata": {
            "tags": []
          },
          "execution_count": 289
        }
      ]
    },
    {
      "cell_type": "code",
      "metadata": {
        "colab": {
          "base_uri": "https://localhost:8080/"
        },
        "id": "elmyvX6WjTqv",
        "outputId": "86e30f04-a783-4953-c8ef-064eba37ae27"
      },
      "source": [
        "a = [1, -3, 2, 0, -5, 6]\n",
        "\n",
        "# filter(함수, 리스트)\n",
        "\n",
        "def test(x):\n",
        "  return x > 0 # True, False\n",
        "\n",
        "list(filter(test, a))"
      ],
      "execution_count": 292,
      "outputs": [
        {
          "output_type": "execute_result",
          "data": {
            "text/plain": [
              "[1, 2, 6]"
            ]
          },
          "metadata": {
            "tags": []
          },
          "execution_count": 292
        }
      ]
    },
    {
      "cell_type": "code",
      "metadata": {
        "colab": {
          "base_uri": "https://localhost:8080/"
        },
        "id": "H-KdmWYAkRL5",
        "outputId": "277bd696-a78c-4456-b448-b68291e3583d"
      },
      "source": [
        "add = lambda a,b:a+b\n",
        "add(3,4)"
      ],
      "execution_count": 293,
      "outputs": [
        {
          "output_type": "execute_result",
          "data": {
            "text/plain": [
              "7"
            ]
          },
          "metadata": {
            "tags": []
          },
          "execution_count": 293
        }
      ]
    },
    {
      "cell_type": "code",
      "metadata": {
        "colab": {
          "base_uri": "https://localhost:8080/"
        },
        "id": "Y5y398yQktA6",
        "outputId": "ec11d4d8-c402-4fc2-88bf-3838c93d09f1"
      },
      "source": [
        "a = [1, -3, 2, 0, -5, 6]\n",
        "list(filter(lambda i:i>0, a)) # 필터링"
      ],
      "execution_count": 295,
      "outputs": [
        {
          "output_type": "execute_result",
          "data": {
            "text/plain": [
              "[1, 2, 6]"
            ]
          },
          "metadata": {
            "tags": []
          },
          "execution_count": 295
        }
      ]
    },
    {
      "cell_type": "code",
      "metadata": {
        "colab": {
          "base_uri": "https://localhost:8080/"
        },
        "id": "sVEDZoVQkzuk",
        "outputId": "8410757e-9f3a-46ae-d1e0-7cd4186e2161"
      },
      "source": [
        "a = [1, -3, 2, 0, -5, 6]\n",
        "list(map(lambda i:i*2, a)) # 모든 요소 적용"
      ],
      "execution_count": 296,
      "outputs": [
        {
          "output_type": "execute_result",
          "data": {
            "text/plain": [
              "[2, -6, 4, 0, -10, 12]"
            ]
          },
          "metadata": {
            "tags": []
          },
          "execution_count": 296
        }
      ]
    },
    {
      "cell_type": "code",
      "metadata": {
        "colab": {
          "base_uri": "https://localhost:8080/"
        },
        "id": "J_crEJNXlK95",
        "outputId": "a6e1ef93-c753-4ab5-ac37-a1c078b81ff2"
      },
      "source": [
        "int('3')"
      ],
      "execution_count": 297,
      "outputs": [
        {
          "output_type": "execute_result",
          "data": {
            "text/plain": [
              "3"
            ]
          },
          "metadata": {
            "tags": []
          },
          "execution_count": 297
        }
      ]
    },
    {
      "cell_type": "code",
      "metadata": {
        "colab": {
          "base_uri": "https://localhost:8080/"
        },
        "id": "CUwBzhmxlYiL",
        "outputId": "5a73a511-0859-4c20-a119-8da66975819b"
      },
      "source": [
        "int(3.14)"
      ],
      "execution_count": 298,
      "outputs": [
        {
          "output_type": "execute_result",
          "data": {
            "text/plain": [
              "3"
            ]
          },
          "metadata": {
            "tags": []
          },
          "execution_count": 298
        }
      ]
    },
    {
      "cell_type": "code",
      "metadata": {
        "colab": {
          "base_uri": "https://localhost:8080/"
        },
        "id": "V_p6X5nilaDE",
        "outputId": "0001a950-05dc-4bed-c41c-7891bafba4bb"
      },
      "source": [
        "int('11', 2)"
      ],
      "execution_count": 299,
      "outputs": [
        {
          "output_type": "execute_result",
          "data": {
            "text/plain": [
              "3"
            ]
          },
          "metadata": {
            "tags": []
          },
          "execution_count": 299
        }
      ]
    },
    {
      "cell_type": "code",
      "metadata": {
        "colab": {
          "base_uri": "https://localhost:8080/"
        },
        "id": "HXEzlLGdljmH",
        "outputId": "16603d24-1477-4fb7-f6f6-9399a0b7e5e1"
      },
      "source": [
        "int('1A', 16)"
      ],
      "execution_count": 300,
      "outputs": [
        {
          "output_type": "execute_result",
          "data": {
            "text/plain": [
              "26"
            ]
          },
          "metadata": {
            "tags": []
          },
          "execution_count": 300
        }
      ]
    },
    {
      "cell_type": "code",
      "metadata": {
        "colab": {
          "base_uri": "https://localhost:8080/"
        },
        "id": "PE_P3N5oloMV",
        "outputId": "786d87db-5cae-41b3-bbfd-24ddcfbb8836"
      },
      "source": [
        "len('python')"
      ],
      "execution_count": 301,
      "outputs": [
        {
          "output_type": "execute_result",
          "data": {
            "text/plain": [
              "6"
            ]
          },
          "metadata": {
            "tags": []
          },
          "execution_count": 301
        }
      ]
    },
    {
      "cell_type": "code",
      "metadata": {
        "colab": {
          "base_uri": "https://localhost:8080/"
        },
        "id": "mCDDQ-uWlsUg",
        "outputId": "8d05d000-7ce9-47f1-94c5-c7de9710fe06"
      },
      "source": [
        "len([1,2,3,4,5])"
      ],
      "execution_count": 302,
      "outputs": [
        {
          "output_type": "execute_result",
          "data": {
            "text/plain": [
              "5"
            ]
          },
          "metadata": {
            "tags": []
          },
          "execution_count": 302
        }
      ]
    },
    {
      "cell_type": "code",
      "metadata": {
        "colab": {
          "base_uri": "https://localhost:8080/"
        },
        "id": "wFyXgqdDluKT",
        "outputId": "4f1afa4f-7754-42f6-d568-a7cf372731a2"
      },
      "source": [
        "list('python')"
      ],
      "execution_count": 303,
      "outputs": [
        {
          "output_type": "execute_result",
          "data": {
            "text/plain": [
              "['p', 'y', 't', 'h', 'o', 'n']"
            ]
          },
          "metadata": {
            "tags": []
          },
          "execution_count": 303
        }
      ]
    },
    {
      "cell_type": "code",
      "metadata": {
        "colab": {
          "base_uri": "https://localhost:8080/"
        },
        "id": "XMe9d-yFlxgw",
        "outputId": "833b0447-2b8a-4bb1-af37-1387c0fed451"
      },
      "source": [
        "max([1,2,3,4,5])"
      ],
      "execution_count": 304,
      "outputs": [
        {
          "output_type": "execute_result",
          "data": {
            "text/plain": [
              "5"
            ]
          },
          "metadata": {
            "tags": []
          },
          "execution_count": 304
        }
      ]
    },
    {
      "cell_type": "code",
      "metadata": {
        "colab": {
          "base_uri": "https://localhost:8080/"
        },
        "id": "0Pl-Uz7Ol47E",
        "outputId": "0e26502b-05dc-4ab2-a308-e885add9c0ca"
      },
      "source": [
        "min([1,2,3,4,5])"
      ],
      "execution_count": 305,
      "outputs": [
        {
          "output_type": "execute_result",
          "data": {
            "text/plain": [
              "1"
            ]
          },
          "metadata": {
            "tags": []
          },
          "execution_count": 305
        }
      ]
    },
    {
      "cell_type": "code",
      "metadata": {
        "colab": {
          "base_uri": "https://localhost:8080/"
        },
        "id": "Woi33PqSl6tP",
        "outputId": "a2310dc4-8742-48e4-e1bb-152e5f557d1d"
      },
      "source": [
        "list(range(1, 11))"
      ],
      "execution_count": 307,
      "outputs": [
        {
          "output_type": "execute_result",
          "data": {
            "text/plain": [
              "[1, 2, 3, 4, 5, 6, 7, 8, 9, 10]"
            ]
          },
          "metadata": {
            "tags": []
          },
          "execution_count": 307
        }
      ]
    },
    {
      "cell_type": "code",
      "metadata": {
        "colab": {
          "base_uri": "https://localhost:8080/"
        },
        "id": "YdYD3c1Ul-FU",
        "outputId": "f388a836-a8c6-4c05-e9a4-2c0088b098e4"
      },
      "source": [
        "round(4.6)"
      ],
      "execution_count": 308,
      "outputs": [
        {
          "output_type": "execute_result",
          "data": {
            "text/plain": [
              "5"
            ]
          },
          "metadata": {
            "tags": []
          },
          "execution_count": 308
        }
      ]
    },
    {
      "cell_type": "code",
      "metadata": {
        "colab": {
          "base_uri": "https://localhost:8080/"
        },
        "id": "TG0YE8gXmF0I",
        "outputId": "ebba1438-2c09-47ea-fe73-2a8b4e60fb79"
      },
      "source": [
        "round(4.2)"
      ],
      "execution_count": 309,
      "outputs": [
        {
          "output_type": "execute_result",
          "data": {
            "text/plain": [
              "4"
            ]
          },
          "metadata": {
            "tags": []
          },
          "execution_count": 309
        }
      ]
    },
    {
      "cell_type": "code",
      "metadata": {
        "colab": {
          "base_uri": "https://localhost:8080/"
        },
        "id": "F291vNvNmGxx",
        "outputId": "459130a5-8cef-4dd6-9b0d-fb1bc615c8ff"
      },
      "source": [
        "round(5.678, 2)"
      ],
      "execution_count": 310,
      "outputs": [
        {
          "output_type": "execute_result",
          "data": {
            "text/plain": [
              "5.68"
            ]
          },
          "metadata": {
            "tags": []
          },
          "execution_count": 310
        }
      ]
    },
    {
      "cell_type": "code",
      "metadata": {
        "colab": {
          "base_uri": "https://localhost:8080/"
        },
        "id": "NIfco8iYmI79",
        "outputId": "20812f36-fb98-4b48-cea1-bdc10d191e61"
      },
      "source": [
        "sorted([1,4,3,2])"
      ],
      "execution_count": 311,
      "outputs": [
        {
          "output_type": "execute_result",
          "data": {
            "text/plain": [
              "[1, 2, 3, 4]"
            ]
          },
          "metadata": {
            "tags": []
          },
          "execution_count": 311
        }
      ]
    },
    {
      "cell_type": "code",
      "metadata": {
        "colab": {
          "base_uri": "https://localhost:8080/",
          "height": 35
        },
        "id": "hTO7eCnemNZ1",
        "outputId": "eab73321-34d7-4739-c259-0fdb8825d944"
      },
      "source": [
        "str(3)"
      ],
      "execution_count": 312,
      "outputs": [
        {
          "output_type": "execute_result",
          "data": {
            "application/vnd.google.colaboratory.intrinsic+json": {
              "type": "string"
            },
            "text/plain": [
              "'3'"
            ]
          },
          "metadata": {
            "tags": []
          },
          "execution_count": 312
        }
      ]
    },
    {
      "cell_type": "code",
      "metadata": {
        "colab": {
          "base_uri": "https://localhost:8080/"
        },
        "id": "cPQREAofmTmG",
        "outputId": "9d513331-60d6-4886-b1d7-15291b6fee5f"
      },
      "source": [
        "sum([1,2,3,4,5])"
      ],
      "execution_count": 313,
      "outputs": [
        {
          "output_type": "execute_result",
          "data": {
            "text/plain": [
              "15"
            ]
          },
          "metadata": {
            "tags": []
          },
          "execution_count": 313
        }
      ]
    },
    {
      "cell_type": "code",
      "metadata": {
        "colab": {
          "base_uri": "https://localhost:8080/"
        },
        "id": "IAC7-DlUmX6I",
        "outputId": "cb06c91a-1417-4416-b7ff-cca5ac928a6e"
      },
      "source": [
        "a = [1,2,3,4]\n",
        "b = [5,6,7,8]\n",
        "\n",
        "for i,j in zip(a, b):\n",
        "  print(i, j)"
      ],
      "execution_count": 314,
      "outputs": [
        {
          "output_type": "stream",
          "text": [
            "1 5\n",
            "2 6\n",
            "3 7\n",
            "4 8\n"
          ],
          "name": "stdout"
        }
      ]
    },
    {
      "cell_type": "code",
      "metadata": {
        "colab": {
          "base_uri": "https://localhost:8080/"
        },
        "id": "I5OCLsSsmkUu",
        "outputId": "c6300b5f-4600-48b7-c6bf-1223a497e0b1"
      },
      "source": [
        "# 라이브러리\n",
        "# numpy, pandas, tensorflow\n",
        "\n",
        "import calendar\n",
        "print(calendar.calendar(2022))"
      ],
      "execution_count": 315,
      "outputs": [
        {
          "output_type": "stream",
          "text": [
            "                                  2022\n",
            "\n",
            "      January                   February                   March\n",
            "Mo Tu We Th Fr Sa Su      Mo Tu We Th Fr Sa Su      Mo Tu We Th Fr Sa Su\n",
            "                1  2          1  2  3  4  5  6          1  2  3  4  5  6\n",
            " 3  4  5  6  7  8  9       7  8  9 10 11 12 13       7  8  9 10 11 12 13\n",
            "10 11 12 13 14 15 16      14 15 16 17 18 19 20      14 15 16 17 18 19 20\n",
            "17 18 19 20 21 22 23      21 22 23 24 25 26 27      21 22 23 24 25 26 27\n",
            "24 25 26 27 28 29 30      28                        28 29 30 31\n",
            "31\n",
            "\n",
            "       April                      May                       June\n",
            "Mo Tu We Th Fr Sa Su      Mo Tu We Th Fr Sa Su      Mo Tu We Th Fr Sa Su\n",
            "             1  2  3                         1             1  2  3  4  5\n",
            " 4  5  6  7  8  9 10       2  3  4  5  6  7  8       6  7  8  9 10 11 12\n",
            "11 12 13 14 15 16 17       9 10 11 12 13 14 15      13 14 15 16 17 18 19\n",
            "18 19 20 21 22 23 24      16 17 18 19 20 21 22      20 21 22 23 24 25 26\n",
            "25 26 27 28 29 30         23 24 25 26 27 28 29      27 28 29 30\n",
            "                          30 31\n",
            "\n",
            "        July                     August                  September\n",
            "Mo Tu We Th Fr Sa Su      Mo Tu We Th Fr Sa Su      Mo Tu We Th Fr Sa Su\n",
            "             1  2  3       1  2  3  4  5  6  7                1  2  3  4\n",
            " 4  5  6  7  8  9 10       8  9 10 11 12 13 14       5  6  7  8  9 10 11\n",
            "11 12 13 14 15 16 17      15 16 17 18 19 20 21      12 13 14 15 16 17 18\n",
            "18 19 20 21 22 23 24      22 23 24 25 26 27 28      19 20 21 22 23 24 25\n",
            "25 26 27 28 29 30 31      29 30 31                  26 27 28 29 30\n",
            "\n",
            "      October                   November                  December\n",
            "Mo Tu We Th Fr Sa Su      Mo Tu We Th Fr Sa Su      Mo Tu We Th Fr Sa Su\n",
            "                1  2          1  2  3  4  5  6                1  2  3  4\n",
            " 3  4  5  6  7  8  9       7  8  9 10 11 12 13       5  6  7  8  9 10 11\n",
            "10 11 12 13 14 15 16      14 15 16 17 18 19 20      12 13 14 15 16 17 18\n",
            "17 18 19 20 21 22 23      21 22 23 24 25 26 27      19 20 21 22 23 24 25\n",
            "24 25 26 27 28 29 30      28 29 30                  26 27 28 29 30 31\n",
            "31\n",
            "\n"
          ],
          "name": "stdout"
        }
      ]
    },
    {
      "cell_type": "code",
      "metadata": {
        "colab": {
          "base_uri": "https://localhost:8080/"
        },
        "id": "oKH0ur6HnR8i",
        "outputId": "7becea5a-d3a7-4c9a-94c0-e2fa5bd37660"
      },
      "source": [
        "calendar.prmonth(2023, 5)"
      ],
      "execution_count": 316,
      "outputs": [
        {
          "output_type": "stream",
          "text": [
            "      May 2023\n",
            "Mo Tu We Th Fr Sa Su\n",
            " 1  2  3  4  5  6  7\n",
            " 8  9 10 11 12 13 14\n",
            "15 16 17 18 19 20 21\n",
            "22 23 24 25 26 27 28\n",
            "29 30 31\n"
          ],
          "name": "stdout"
        }
      ]
    },
    {
      "cell_type": "code",
      "metadata": {
        "colab": {
          "base_uri": "https://localhost:8080/"
        },
        "id": "7zUBte9QnoLw",
        "outputId": "e715d4f4-4ae3-47fa-aeba-09e4a299470b"
      },
      "source": [
        "calendar.weekday(2025, 7, 5) # 0이 월요일"
      ],
      "execution_count": 317,
      "outputs": [
        {
          "output_type": "execute_result",
          "data": {
            "text/plain": [
              "5"
            ]
          },
          "metadata": {
            "tags": []
          },
          "execution_count": 317
        }
      ]
    },
    {
      "cell_type": "code",
      "metadata": {
        "colab": {
          "base_uri": "https://localhost:8080/"
        },
        "id": "cEgKPIQfnwO3",
        "outputId": "cf9ca609-d770-44b9-83e3-e5b65db6425c"
      },
      "source": [
        "import random as rand\n",
        "\n",
        "rand.random()"
      ],
      "execution_count": 318,
      "outputs": [
        {
          "output_type": "execute_result",
          "data": {
            "text/plain": [
              "0.5938650144181391"
            ]
          },
          "metadata": {
            "tags": []
          },
          "execution_count": 318
        }
      ]
    },
    {
      "cell_type": "code",
      "metadata": {
        "colab": {
          "base_uri": "https://localhost:8080/"
        },
        "id": "BvgNYRdBoMcY",
        "outputId": "6623c208-2c33-4308-ab6f-dce41ecbdac2"
      },
      "source": [
        "rand.randint(1, 3)"
      ],
      "execution_count": 320,
      "outputs": [
        {
          "output_type": "execute_result",
          "data": {
            "text/plain": [
              "3"
            ]
          },
          "metadata": {
            "tags": []
          },
          "execution_count": 320
        }
      ]
    },
    {
      "cell_type": "code",
      "metadata": {
        "colab": {
          "base_uri": "https://localhost:8080/"
        },
        "id": "jnxTWDfooZsX",
        "outputId": "9a23479b-8401-4091-affa-6234a372126a"
      },
      "source": [
        "a = [1,2,3,4,5,6,7,8,9]\n",
        "rand.shuffle(a)\n",
        "a"
      ],
      "execution_count": 321,
      "outputs": [
        {
          "output_type": "execute_result",
          "data": {
            "text/plain": [
              "[8, 4, 6, 3, 7, 1, 2, 9, 5]"
            ]
          },
          "metadata": {
            "tags": []
          },
          "execution_count": 321
        }
      ]
    },
    {
      "cell_type": "code",
      "metadata": {
        "colab": {
          "base_uri": "https://localhost:8080/"
        },
        "id": "jZK_ZU_Sopz6",
        "outputId": "48a064b5-b099-4afb-ef7b-16356184e4ec"
      },
      "source": [
        "rand.sample(a, 3)"
      ],
      "execution_count": 323,
      "outputs": [
        {
          "output_type": "execute_result",
          "data": {
            "text/plain": [
              "[6, 2, 5]"
            ]
          },
          "metadata": {
            "tags": []
          },
          "execution_count": 323
        }
      ]
    },
    {
      "cell_type": "code",
      "metadata": {
        "colab": {
          "base_uri": "https://localhost:8080/"
        },
        "id": "Gl0ReYkYo3wT",
        "outputId": "dd157774-db16-480d-f19b-1f13ba1de426"
      },
      "source": [
        "# 로또 번호 1번~45번 // 6개 추출(정렬) 중복 허용 X\n",
        "\n",
        "sorted(rand.sample(range(1, 46), 6))"
      ],
      "execution_count": 325,
      "outputs": [
        {
          "output_type": "execute_result",
          "data": {
            "text/plain": [
              "[5, 21, 23, 34, 35, 36]"
            ]
          },
          "metadata": {
            "tags": []
          },
          "execution_count": 325
        }
      ]
    },
    {
      "cell_type": "code",
      "metadata": {
        "id": "vjyF-ym_qGth"
      },
      "source": [
        "a = [1,2,3,4,5]\n",
        "\n",
        "import pickle\n",
        "\n",
        "f = open('data.dat', 'wb')\n",
        "pickle.dump(a, f)\n",
        "f.close()"
      ],
      "execution_count": 326,
      "outputs": []
    },
    {
      "cell_type": "code",
      "metadata": {
        "colab": {
          "base_uri": "https://localhost:8080/"
        },
        "id": "BlJr3l72q9z-",
        "outputId": "f2e8d210-afa9-4083-b2bd-6567ccb436a7"
      },
      "source": [
        "f = open('data.dat', 'rb')\n",
        "data = pickle.load(f)\n",
        "f.close()\n",
        "data"
      ],
      "execution_count": 327,
      "outputs": [
        {
          "output_type": "execute_result",
          "data": {
            "text/plain": [
              "[1, 2, 3, 4, 5]"
            ]
          },
          "metadata": {
            "tags": []
          },
          "execution_count": 327
        }
      ]
    },
    {
      "cell_type": "code",
      "metadata": {
        "colab": {
          "base_uri": "https://localhost:8080/"
        },
        "id": "TUHxd12CrbjK",
        "outputId": "ef0c5722-8fa2-4476-dc71-a988aa3775a0"
      },
      "source": [
        "data[0]"
      ],
      "execution_count": 328,
      "outputs": [
        {
          "output_type": "execute_result",
          "data": {
            "text/plain": [
              "1"
            ]
          },
          "metadata": {
            "tags": []
          },
          "execution_count": 328
        }
      ]
    },
    {
      "cell_type": "code",
      "metadata": {
        "colab": {
          "base_uri": "https://localhost:8080/"
        },
        "id": "Te9ioWJErdA0",
        "outputId": "80e4c69d-fdae-4afe-9ec9-a7eaacc2dfcd"
      },
      "source": [
        "import requests # 요청하다\n",
        "from bs4 import BeautifulSoup # python으로 HTML을 다루는 라이브러리\n",
        "import pandas #데이터분석 툴\n",
        "\n",
        "total = []\n",
        "\n",
        "url = requests.get(\"https://search.naver.com/search.naver?where=nexearch&sm=top_hty&fbm=1&ie=utf8&query=%EC%97%B0%EA%B8%88%EB%B3%B5%EA%B6%8C\")\n",
        "html = BeautifulSoup(url.text)\n",
        "current = int(html.find('a', attrs={'class':'_lottery-btn-current'}).find('em').text[:-1])\n",
        "\n",
        "for n in range(1, current + 1):\n",
        "  url = requests.get(f\"https://search.naver.com/search.naver?where=nexearch&sm=top_hty&fbm=1&ie=utf8&query=%EC%97%B0%EA%B8%88%EB%B3%B5%EA%B6%8C+{n}%ED%9A%8C\")\n",
        "  html = BeautifulSoup(url.text)\n",
        "  numbers = html.find('ul', attrs={'class':'win_num'}).find_all('span')\n",
        "\n",
        "  box = []\n",
        "\n",
        "  for i in numbers:\n",
        "    box.append(int(i.text[0]))\n",
        "\n",
        "  total.append(box)\n",
        "  print(f'{n}회차 연금복권 데이터 저장완료 : {box}')\n",
        "\n",
        "# 숙제 : 로또 크롤링 // kakao. ruddlf0524"
      ],
      "execution_count": 352,
      "outputs": [
        {
          "output_type": "stream",
          "text": [
            "1회차 연금복권 데이터 저장완료 : [4, 1, 6, 2, 1, 3, 2]\n",
            "2회차 연금복권 데이터 저장완료 : [2, 4, 5, 0, 5, 5, 8]\n",
            "3회차 연금복권 데이터 저장완료 : [4, 5, 4, 4, 9, 5, 5]\n",
            "4회차 연금복권 데이터 저장완료 : [4, 1, 2, 4, 4, 2, 0]\n",
            "5회차 연금복권 데이터 저장완료 : [4, 7, 5, 4, 6, 5, 5]\n",
            "6회차 연금복권 데이터 저장완료 : [5, 1, 9, 3, 2, 0, 2]\n",
            "7회차 연금복권 데이터 저장완료 : [2, 5, 9, 7, 0, 9, 3]\n",
            "8회차 연금복권 데이터 저장완료 : [4, 2, 3, 4, 0, 5, 8]\n",
            "9회차 연금복권 데이터 저장완료 : [3, 1, 3, 3, 5, 1, 0]\n",
            "10회차 연금복권 데이터 저장완료 : [2, 7, 7, 0, 1, 7, 3]\n",
            "11회차 연금복권 데이터 저장완료 : [1, 8, 6, 7, 6, 5, 4]\n",
            "12회차 연금복권 데이터 저장완료 : [5, 0, 7, 6, 6, 7, 6]\n",
            "13회차 연금복권 데이터 저장완료 : [1, 6, 6, 9, 2, 4, 5]\n",
            "14회차 연금복권 데이터 저장완료 : [3, 4, 3, 2, 4, 9, 6]\n",
            "15회차 연금복권 데이터 저장완료 : [4, 4, 7, 7, 2, 3, 8]\n",
            "16회차 연금복권 데이터 저장완료 : [4, 6, 6, 4, 0, 5, 6]\n",
            "17회차 연금복권 데이터 저장완료 : [3, 3, 1, 7, 2, 2, 7]\n",
            "18회차 연금복권 데이터 저장완료 : [1, 5, 6, 2, 2, 2, 2]\n",
            "19회차 연금복권 데이터 저장완료 : [5, 8, 5, 9, 2, 1, 9]\n",
            "20회차 연금복권 데이터 저장완료 : [1, 8, 1, 9, 6, 0, 5]\n",
            "21회차 연금복권 데이터 저장완료 : [1, 2, 3, 9, 9, 3, 7]\n",
            "22회차 연금복권 데이터 저장완료 : [1, 9, 1, 3, 6, 2, 2]\n",
            "23회차 연금복권 데이터 저장완료 : [4, 1, 5, 8, 0, 7, 1]\n",
            "24회차 연금복권 데이터 저장완료 : [2, 0, 0, 2, 9, 8, 9]\n",
            "25회차 연금복권 데이터 저장완료 : [3, 4, 6, 3, 6, 3, 7]\n",
            "26회차 연금복권 데이터 저장완료 : [3, 1, 9, 2, 8, 5, 6]\n",
            "27회차 연금복권 데이터 저장완료 : [5, 4, 1, 2, 0, 0, 8]\n",
            "28회차 연금복권 데이터 저장완료 : [5, 0, 8, 0, 8, 3, 9]\n",
            "29회차 연금복권 데이터 저장완료 : [4, 3, 5, 5, 1, 9, 2]\n",
            "30회차 연금복권 데이터 저장완료 : [3, 4, 8, 7, 2, 1, 5]\n",
            "31회차 연금복권 데이터 저장완료 : [1, 7, 7, 1, 5, 9, 8]\n",
            "32회차 연금복권 데이터 저장완료 : [1, 5, 7, 9, 1, 7, 6]\n",
            "33회차 연금복권 데이터 저장완료 : [4, 5, 9, 6, 2, 1, 9]\n",
            "34회차 연금복권 데이터 저장완료 : [4, 9, 7, 7, 6, 8, 6]\n",
            "35회차 연금복권 데이터 저장완료 : [1, 5, 4, 2, 4, 5, 4]\n",
            "36회차 연금복권 데이터 저장완료 : [4, 7, 3, 5, 7, 5, 7]\n",
            "37회차 연금복권 데이터 저장완료 : [3, 4, 5, 3, 8, 7, 7]\n",
            "38회차 연금복권 데이터 저장완료 : [3, 3, 0, 7, 8, 3, 6]\n",
            "39회차 연금복권 데이터 저장완료 : [1, 1, 9, 9, 1, 3, 7]\n",
            "40회차 연금복권 데이터 저장완료 : [2, 6, 3, 1, 0, 8, 6]\n",
            "41회차 연금복권 데이터 저장완료 : [1, 7, 4, 2, 7, 1, 4]\n",
            "42회차 연금복권 데이터 저장완료 : [4, 9, 7, 4, 2, 3, 1]\n",
            "43회차 연금복권 데이터 저장완료 : [4, 5, 8, 9, 8, 3, 9]\n",
            "44회차 연금복권 데이터 저장완료 : [3, 6, 6, 8, 8, 1, 8]\n",
            "45회차 연금복권 데이터 저장완료 : [2, 3, 1, 8, 7, 5, 4]\n",
            "46회차 연금복권 데이터 저장완료 : [4, 0, 1, 0, 9, 6, 3]\n",
            "47회차 연금복권 데이터 저장완료 : [4, 9, 4, 1, 3, 2, 7]\n",
            "48회차 연금복권 데이터 저장완료 : [1, 7, 7, 9, 3, 6, 3]\n",
            "49회차 연금복권 데이터 저장완료 : [4, 3, 0, 5, 2, 4, 8]\n",
            "50회차 연금복권 데이터 저장완료 : [3, 5, 9, 2, 1, 1, 1]\n",
            "51회차 연금복권 데이터 저장완료 : [2, 5, 1, 0, 0, 1, 2]\n",
            "52회차 연금복권 데이터 저장완료 : [2, 5, 9, 7, 2, 2, 7]\n",
            "53회차 연금복권 데이터 저장완료 : [5, 6, 4, 9, 6, 3, 8]\n",
            "54회차 연금복권 데이터 저장완료 : [5, 6, 2, 7, 0, 5, 4]\n",
            "55회차 연금복권 데이터 저장완료 : [1, 4, 7, 7, 8, 7, 9]\n",
            "56회차 연금복권 데이터 저장완료 : [1, 9, 9, 3, 1, 7, 4]\n",
            "57회차 연금복권 데이터 저장완료 : [2, 2, 7, 2, 2, 8, 6]\n",
            "58회차 연금복권 데이터 저장완료 : [5, 9, 3, 9, 3, 2, 7]\n",
            "59회차 연금복권 데이터 저장완료 : [2, 1, 5, 9, 0, 5, 6]\n",
            "60회차 연금복권 데이터 저장완료 : [5, 2, 1, 6, 5, 1, 0]\n",
            "61회차 연금복권 데이터 저장완료 : [3, 5, 7, 5, 8, 6, 2]\n",
            "62회차 연금복권 데이터 저장완료 : [4, 0, 1, 4, 0, 7, 3]\n",
            "63회차 연금복권 데이터 저장완료 : [4, 3, 3, 5, 2, 2, 6]\n"
          ],
          "name": "stdout"
        }
      ]
    },
    {
      "cell_type": "code",
      "metadata": {
        "id": "-HT_SC3I47RE"
      },
      "source": [
        ""
      ],
      "execution_count": null,
      "outputs": []
    }
  ]
}